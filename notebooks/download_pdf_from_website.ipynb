{
 "cells": [
  {
   "cell_type": "code",
   "execution_count": 1,
   "id": "921845c9",
   "metadata": {},
   "outputs": [],
   "source": [
    "import pandas as pd\n",
    "import numpy as np\n",
    "import requests\n",
    "from selenium import webdriver\n",
    "from selenium.webdriver.common.by import By\n",
    "from selenium.webdriver.support.ui import WebDriverWait\n",
    "from selenium.webdriver.support import expected_conditions as EC\n",
    "from selenium.common.exceptions import WebDriverException\n",
    "import time \n",
    "import os\n",
    "import json\n",
    "import base64\n",
    "\n",
    "#from webdriver_manager.chrome import ChromeDriverManager"
   ]
  },
  {
   "cell_type": "code",
   "execution_count": 2,
   "id": "f07df0c0",
   "metadata": {},
   "outputs": [],
   "source": [
    "def get_pdf_links_one_page(url, element_class, driver = None, button_xpath = None, pdf_dict = {}, search_word = None):\n",
    "    if driver is None:\n",
    "        driver = webdriver.Chrome()\n",
    "    \n",
    "    if not driver.current_url == url:\n",
    "        driver.get(url)\n",
    "    \n",
    "    # wait till elements show up\n",
    "    WebDriverWait(driver, 60).until(EC.presence_of_element_located((By.CLASS_NAME, element_class)))\n",
    "    #time.sleep(10)\n",
    "    \n",
    "    #scoll down a little\n",
    "    #driver.execute_script(\"window.scrollTo(0, 0.25*document.body.scrollHeight);\")\n",
    "\n",
    "    \n",
    "    # Find all elements with a specific class name\n",
    "    elements = driver.find_elements(By.CLASS_NAME, element_class)\n",
    "    #print(elements)\n",
    "    \n",
    "    # Loop through each element\n",
    "    for element in elements:\n",
    "        # Click on the element\n",
    "        pdf_name = element.find_element(By.TAG_NAME, 'span').text\n",
    "        if not search_word is None and search_word not in pdf_name: #skip elements that don't contain keyword\n",
    "            continue\n",
    "        if len(pdf_name) < 3: #skip 热点信息\n",
    "            continue\n",
    "        print(pdf_name)\n",
    "        try:\n",
    "            element.find_element(By.TAG_NAME, 'span').click()\n",
    "        except WebDriverException:\n",
    "            print(pdf_name + \" is not clickable\")\n",
    "            continue\n",
    "        time.sleep(5)  # wait for page to load\n",
    "        #WebDriverWait(driver, 60).until(EC.presence_of_element_located((By.XPATH, button_xpath)))\n",
    "        if button_xpath is None:\n",
    "            pdf_button = driver.find_elements(By.TAG_NAME, 'button')[-1]\n",
    "        else:\n",
    "            pdf_button = driver.find_element(By.XPATH, button_xpath)\n",
    "        try:\n",
    "            #WebDriverWait(driver, 10).until(EC.element_to_be_clickable(pdf_button))\n",
    "            pdf_button.click()\n",
    "        except WebDriverException:\n",
    "            # no pdf link, save screenshot instead\n",
    "            try:\n",
    "                img = driver.find_elements(By.TAG_NAME, 'div')[-3].screenshot_as_base64\n",
    "                pdf_link = base64.decodebytes(img.encode('utf-8'))\n",
    "                print(pdf_name+' has screenshot saved')\n",
    "            except WebDriverException:\n",
    "                pdf_link = None\n",
    "                print(pdf_nam + 'has no Link and cannot screenshot')\n",
    "            pdf_dict[pdf_name] = pdf_link\n",
    "            #close popup\n",
    "            try:\n",
    "                driver.find_elements(By.CSS_SELECTOR, \"[aria-label=Close]\")[1].find_element(By.TAG_NAME, 'i').click()\n",
    "                time.sleep(3)\n",
    "            except:\n",
    "                print(pdf_name)\n",
    "            continue\n",
    "        time.sleep(5)\n",
    "        #print(driver.current_url)\n",
    "\n",
    "        \n",
    "        driver.switch_to.window(driver.window_handles[-1])\n",
    "        pdf_link = driver.current_url\n",
    "        driver.close()\n",
    "        try:\n",
    "            driver.switch_to.window(driver.window_handles[0])\n",
    "        except:\n",
    "            ...\n",
    "            \n",
    "        #close popup\n",
    "        time.sleep(5)\n",
    "        driver.find_elements(By.CSS_SELECTOR, \"[aria-label=Close]\")[1].find_element(By.TAG_NAME, 'i').click()\n",
    "        time.sleep(3)\n",
    "        pdf_dict[pdf_name] = pdf_link\n",
    "    return pdf_dict, driver\n",
    "\n",
    "def get_pdf_links_more_pages(url, element_class, driver = None, page_num = 1, pdf_dict = {}, search_word = None):\n",
    "    for _ in range(page_num-1):\n",
    "        pdf_dict, driver = get_pdf_links_one_page(url, element_class, driver = driver, pdf_dict = pdf_dict, search_word=search_word)\n",
    "        if driver.find_element(By.CLASS_NAME, 'btn-next').is_enabled():\n",
    "            driver.find_element(By.CLASS_NAME, 'btn-next').click()\n",
    "            time.sleep(5)\n",
    "    return pdf_dict\n",
    "\n",
    "def save_pdf(pdf_dict, folder_path = None):\n",
    "    if folder_path is None:\n",
    "        folder_path = os.curdir\n",
    "    if not os.path.exists(folder_path):\n",
    "        os.makedirs(folder_path)\n",
    "    for k, v in pdf_dict.items():\n",
    "        if v is None:\n",
    "            continue\n",
    "        if type(v) == str:\n",
    "            path = os.path.join(folder_path, k+'.pdf')\n",
    "            pdf = requests.get(v, verify = False).content\n",
    "            with open(path, 'wb') as file:\n",
    "                file.write(pdf)\n",
    "                print('save at '+path)\n",
    "        elif type(v) == bytes:\n",
    "            path = os.path.join(folder_path, k+'.png')\n",
    "            with open(path, 'wb') as file:\n",
    "                file.write(v)\n",
    "                #file.write(base64.decodebytes(v))\n",
    "                print('save at '+path)\n"
   ]
  },
  {
   "cell_type": "code",
   "execution_count": 3,
   "id": "4b03f460",
   "metadata": {},
   "outputs": [],
   "source": [
    "pmos_url = \"https://pmos.sd.sgcc.com.cn/pxf-settlement-outnetpub/#/pxf-settlement-outnetpub/columnHomeLeftMenuNew\"\n",
    "element_class = 'el-table__row'\n",
    "button_xpath = '/html/body/div[3]/div/div[2]/div/div/div[2]/div[3]/span[2]/button[2]'\n",
    "search_word = '工作日报'"
   ]
  },
  {
   "cell_type": "code",
   "execution_count": 4,
   "id": "8bedb914",
   "metadata": {},
   "outputs": [
    {
     "name": "stdout",
     "output_type": "stream",
     "text": [
      "山东电力现货市场2023年4月结算试运行工作日报(4月19日)\n",
      "2023年3月份绿电绿证交易信息披露\n",
      "山东电力现货市场2023年4月结算试运行工作日报(4月18日)\n",
      "山东电力现货市场2023年4月结算试运行工作日报(4月16日)\n",
      "山东电力现货市场2023年4月结算试运行工作日报(4月17日)\n",
      "山东电力现货市场2023年4月结算试运行工作日报(4月15日)\n",
      "山东电力交易中心有限公司关于公示山东安悦节能技术有限公司等5家注册信息变更的公告\n",
      "山东电力现货市场2023年4月结算试运行工作日报(4月14日)\n",
      "山东电力交易中心有限公司关于发布山东电亮亮售电有限公司市场注销公示结果的公告\n",
      "山东电力交易中心有限公司关于发布河北华瑞能源集团有限公司等2家售电公司减少售电业务范围公示结果的公告\n",
      "Wall time: 3min 28s\n"
     ]
    }
   ],
   "source": [
    "%%time\n",
    "pdfs = get_pdf_links_more_pages(pmos_url, element_class, page_num=2, search_word=None)"
   ]
  },
  {
   "cell_type": "code",
   "execution_count": 58,
   "id": "6c69be30",
   "metadata": {},
   "outputs": [
    {
     "data": {
      "text/plain": [
       "40"
      ]
     },
     "execution_count": 58,
     "metadata": {},
     "output_type": "execute_result"
    }
   ],
   "source": [
    "len(pdfs)"
   ]
  },
  {
   "cell_type": "code",
   "execution_count": null,
   "id": "15c4ebf3",
   "metadata": {},
   "outputs": [],
   "source": [
    "test_dict={'山东电力现货市场2023年4月结算试运行工作日报(4月11日)': 'https://pmos.sd.sgcc.com.cn/px-settlement-infpubmeex/fileService/preview?fileId=nf80340850b2c4d2ebdaf97144353b481#toolbar=0', '电网企业代理非市场用户每个交易时段的购、售电量': b'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'}"
   ]
  },
  {
   "cell_type": "code",
   "execution_count": null,
   "id": "7d6a2bfd",
   "metadata": {},
   "outputs": [],
   "source": [
    "for k, v in test_dict.items():\n",
    "    if type(v) == str:\n",
    "        pdf = requests.get(v, verify = False).content\n",
    "        with open(k+'.pdf', 'wb') as file:\n",
    "            file.write(pdf)\n",
    "    if type(v) == bytes:\n",
    "        img = base64.decodebytes(v)\n",
    "        with open(k+'.png', 'wb') as file:\n",
    "            file.write(img)"
   ]
  },
  {
   "cell_type": "code",
   "execution_count": null,
   "id": "5e02a872",
   "metadata": {},
   "outputs": [],
   "source": [
    "b = test_dict['电网企业代理非市场用户每个交易时段的购、售电量']\n",
    "img = base64.decodebytes(b)\n",
    "with open('test'+'.png', 'wb') as file:\n",
    "    file.write(img)"
   ]
  },
  {
   "cell_type": "code",
   "execution_count": null,
   "id": "8df0217f",
   "metadata": {},
   "outputs": [],
   "source": [
    "save_pdf(test_dict)"
   ]
  },
  {
   "cell_type": "code",
   "execution_count": null,
   "id": "234aed01",
   "metadata": {},
   "outputs": [],
   "source": [
    "pdfs"
   ]
  },
  {
   "cell_type": "code",
   "execution_count": 10,
   "id": "043bec4d",
   "metadata": {},
   "outputs": [
    {
     "name": "stderr",
     "output_type": "stream",
     "text": [
      "C:\\Users\\Bill Chen\\anaconda3\\lib\\site-packages\\urllib3\\connectionpool.py:1045: InsecureRequestWarning: Unverified HTTPS request is being made to host 'pmos.sd.sgcc.com.cn'. Adding certificate verification is strongly advised. See: https://urllib3.readthedocs.io/en/1.26.x/advanced-usage.html#ssl-warnings\n",
      "  warnings.warn(\n"
     ]
    },
    {
     "name": "stdout",
     "output_type": "stream",
     "text": [
      "save at .\\山东电力现货市场2023年4月结算试运行工作日报(4月14日).pdf\n"
     ]
    },
    {
     "name": "stderr",
     "output_type": "stream",
     "text": [
      "C:\\Users\\Bill Chen\\anaconda3\\lib\\site-packages\\urllib3\\connectionpool.py:1045: InsecureRequestWarning: Unverified HTTPS request is being made to host 'pmos.sd.sgcc.com.cn'. Adding certificate verification is strongly advised. See: https://urllib3.readthedocs.io/en/1.26.x/advanced-usage.html#ssl-warnings\n",
      "  warnings.warn(\n"
     ]
    },
    {
     "name": "stdout",
     "output_type": "stream",
     "text": [
      "save at .\\山东电力现货市场2023年4月结算试运行工作日报(4月13日).pdf\n"
     ]
    },
    {
     "name": "stderr",
     "output_type": "stream",
     "text": [
      "C:\\Users\\Bill Chen\\anaconda3\\lib\\site-packages\\urllib3\\connectionpool.py:1045: InsecureRequestWarning: Unverified HTTPS request is being made to host 'pmos.sd.sgcc.com.cn'. Adding certificate verification is strongly advised. See: https://urllib3.readthedocs.io/en/1.26.x/advanced-usage.html#ssl-warnings\n",
      "  warnings.warn(\n"
     ]
    },
    {
     "name": "stdout",
     "output_type": "stream",
     "text": [
      "save at .\\山东电力现货市场2023年4月结算试运行工作日报(4月12日).pdf\n"
     ]
    },
    {
     "name": "stderr",
     "output_type": "stream",
     "text": [
      "C:\\Users\\Bill Chen\\anaconda3\\lib\\site-packages\\urllib3\\connectionpool.py:1045: InsecureRequestWarning: Unverified HTTPS request is being made to host 'pmos.sd.sgcc.com.cn'. Adding certificate verification is strongly advised. See: https://urllib3.readthedocs.io/en/1.26.x/advanced-usage.html#ssl-warnings\n",
      "  warnings.warn(\n"
     ]
    },
    {
     "name": "stdout",
     "output_type": "stream",
     "text": [
      "save at .\\山东电力现货市场2023年4月结算试运行工作日报(4月11日).pdf\n"
     ]
    }
   ],
   "source": [
    "save_pdf(pdfs)"
   ]
  },
  {
   "cell_type": "code",
   "execution_count": null,
   "id": "bc1d5cb6",
   "metadata": {
    "scrolled": true
   },
   "outputs": [],
   "source": [
    "pdf411 = requests.get('https://pmos.sd.sgcc.com.cn/px-settlement-infpubmeex/fileService/preview?fileId=nf80340850b2c4d2ebdaf97144353b481#toolbar=0', verify = False).content"
   ]
  },
  {
   "cell_type": "code",
   "execution_count": null,
   "id": "70ba3710",
   "metadata": {},
   "outputs": [],
   "source": [
    "with open('411.pdf', 'wb') as file:\n",
    "    file.write(pdf411)"
   ]
  },
  {
   "cell_type": "code",
   "execution_count": null,
   "id": "78ab2fdf",
   "metadata": {},
   "outputs": [],
   "source": [
    "cq_pmos = 'https://pmos.cq.sgcc.com.cn/pxf-settlement-outnetpub/#/pxf-settlement-outnetpub/columnHomeLeftMenuNew'\n",
    "element_class = 'el-table__row'"
   ]
  },
  {
   "cell_type": "code",
   "execution_count": null,
   "id": "89395689",
   "metadata": {},
   "outputs": [],
   "source": [
    "cq= get_pdf_links_more_pages(cq_pmos, element_class, page_num=5)"
   ]
  },
  {
   "cell_type": "code",
   "execution_count": null,
   "id": "25d630c3",
   "metadata": {},
   "outputs": [],
   "source": [
    "cq"
   ]
  },
  {
   "cell_type": "code",
   "execution_count": 30,
   "id": "7794b161",
   "metadata": {},
   "outputs": [],
   "source": [
    "driver = webdriver.Chrome()"
   ]
  },
  {
   "cell_type": "code",
   "execution_count": 31,
   "id": "54ddee31",
   "metadata": {},
   "outputs": [],
   "source": [
    "driver.get(pmos_url)"
   ]
  },
  {
   "cell_type": "code",
   "execution_count": 32,
   "id": "6144ae67",
   "metadata": {},
   "outputs": [],
   "source": [
    "driver.find_element(By.CLASS_NAME, 'btn-next').click()"
   ]
  },
  {
   "cell_type": "code",
   "execution_count": 33,
   "id": "8922b731",
   "metadata": {},
   "outputs": [],
   "source": [
    "elements = driver.find_elements(By.CLASS_NAME, element_class)"
   ]
  },
  {
   "cell_type": "code",
   "execution_count": 35,
   "id": "bb9fc541",
   "metadata": {},
   "outputs": [
    {
     "name": "stdout",
     "output_type": "stream",
     "text": [
      "山东电力交易中心有限公司关于公示第六十八批申请注册售电公司信息的公告\n",
      "山东电力现货市场2023年4月结算试运行工作日报(4月13日)\n",
      "2023年4月12日绿电绿证交易座谈会\n",
      "山东电力现货市场2023年4月结算试运行工作日报(4月12日)\n",
      "山东电力现货市场2023年4月结算试运行工作日报(4月11日)\n",
      "2023年3月省间交易输电价格方案\n",
      "2023年4月省间交易输电价格方案\n",
      "绿色电力证书交易用户手册\n",
      "山东电力现货市场2023年4月结算试运行工作日报(4月10日)\n",
      "山东电力现货市场2023年4月结算试运行工作日报（4月9日）\n",
      "\n",
      "\n",
      "\n",
      "4\n",
      "5\n",
      "6\n",
      "7\n",
      "8\n",
      "9\n",
      "10\n"
     ]
    }
   ],
   "source": [
    "for element in elements:\n",
    "    pdf_name = element.find_element(By.TAG_NAME, 'span').text\n",
    "    \n",
    "    print(pdf_name)"
   ]
  },
  {
   "cell_type": "code",
   "execution_count": 46,
   "id": "858032f2",
   "metadata": {},
   "outputs": [],
   "source": [
    "elements[2].find_element(By.TAG_NAME, 'span').click()"
   ]
  },
  {
   "cell_type": "code",
   "execution_count": 37,
   "id": "e89645e9",
   "metadata": {},
   "outputs": [
    {
     "data": {
      "text/plain": [
       "[<selenium.webdriver.remote.webelement.WebElement (session=\"f97b1e40806c911e352f86ed6f334624\", element=\"5cc3a44b-08ec-47b1-8501-d6a2bfe28039\")>,\n",
       " <selenium.webdriver.remote.webelement.WebElement (session=\"f97b1e40806c911e352f86ed6f334624\", element=\"d465c2cb-a289-4727-81f3-1bee0aff5299\")>]"
      ]
     },
     "execution_count": 37,
     "metadata": {},
     "output_type": "execute_result"
    }
   ],
   "source": [
    "driver.find_elements(By.CSS_SELECTOR, \"[aria-label=Close]\")"
   ]
  },
  {
   "cell_type": "code",
   "execution_count": 38,
   "id": "c2cd7c96",
   "metadata": {},
   "outputs": [],
   "source": [
    "driver.execute_script(\"window.scrollTo(0, 0.25*document.body.scrollHeight);\")"
   ]
  },
  {
   "cell_type": "code",
   "execution_count": null,
   "id": "b00062ad",
   "metadata": {},
   "outputs": [],
   "source": [
    "driver.find_element(By.CLASS_NAME, 'btn-next').is_enabled()"
   ]
  },
  {
   "cell_type": "code",
   "execution_count": null,
   "id": "58ad89e2",
   "metadata": {},
   "outputs": [],
   "source": [
    "all_rows = driver.find_elements(By.CLASS_NAME,'el-table__row')"
   ]
  },
  {
   "cell_type": "code",
   "execution_count": null,
   "id": "41cd9a69",
   "metadata": {},
   "outputs": [],
   "source": [
    "all_rows[5].find_element(By.TAG_NAME,'span').text"
   ]
  },
  {
   "cell_type": "code",
   "execution_count": null,
   "id": "8a0db759",
   "metadata": {},
   "outputs": [],
   "source": [
    "all_rows[5].click()"
   ]
  },
  {
   "cell_type": "code",
   "execution_count": null,
   "id": "65f667fb",
   "metadata": {},
   "outputs": [],
   "source": [
    "img = driver.find_elements(By.TAG_NAME, 'div')[-3].screenshot_as_base64"
   ]
  },
  {
   "cell_type": "code",
   "execution_count": null,
   "id": "bdb70103",
   "metadata": {},
   "outputs": [],
   "source": [
    "import base64"
   ]
  },
  {
   "cell_type": "code",
   "execution_count": null,
   "id": "1a840c01",
   "metadata": {},
   "outputs": [],
   "source": [
    "img.encode('utf-8')"
   ]
  },
  {
   "cell_type": "code",
   "execution_count": null,
   "id": "95a502fc",
   "metadata": {},
   "outputs": [],
   "source": [
    "type(img.encode('utf-8'))"
   ]
  },
  {
   "cell_type": "code",
   "execution_count": null,
   "id": "2dcd5d11",
   "metadata": {},
   "outputs": [],
   "source": [
    "fh = open(\"imageToSave.png\", \"wb\")\n",
    "fh.write(base64.decodebytes(img.encode('utf-8')))\n",
    "fh.close()\n",
    "\n",
    "# or, more concisely using with statement\n",
    "#with open(\"imageToSave.png\", \"wb\") as fh:\n",
    "#    fh.write(img.decode('base64'))"
   ]
  },
  {
   "cell_type": "code",
   "execution_count": null,
   "id": "6d426ed8",
   "metadata": {},
   "outputs": [],
   "source": [
    "driver.find_elements(By.TAG_NAME, 'div')[-3].screenshot"
   ]
  },
  {
   "cell_type": "code",
   "execution_count": null,
   "id": "7cdeb16b",
   "metadata": {},
   "outputs": [],
   "source": [
    "driver.find_elements(By.TAG_NAME, 'div')[-3].screenshot_as_png"
   ]
  },
  {
   "cell_type": "code",
   "execution_count": null,
   "id": "ee2d1e9f",
   "metadata": {},
   "outputs": [],
   "source": [
    "button = driver.find_element(By.XPATH,'/html/body/div[3]/div/div[2]/div/div/div[2]/div[3]/span[2]/button[2]')"
   ]
  },
  {
   "cell_type": "code",
   "execution_count": null,
   "id": "945de006",
   "metadata": {},
   "outputs": [],
   "source": [
    "button.click()"
   ]
  },
  {
   "cell_type": "code",
   "execution_count": null,
   "id": "00c203b4",
   "metadata": {},
   "outputs": [],
   "source": [
    "driver.switch_to.window(driver.window_handles[-1])\n",
    "print(driver.current_url)\n",
    "driver.close()\n",
    "driver.switch_to.window(driver.window_handles[0])"
   ]
  },
  {
   "cell_type": "code",
   "execution_count": null,
   "id": "8f02f80c",
   "metadata": {},
   "outputs": [],
   "source": [
    "popup_close"
   ]
  },
  {
   "cell_type": "code",
   "execution_count": null,
   "id": "45cf305e",
   "metadata": {},
   "outputs": [],
   "source": [
    "/html/body/div[4]/div/div[1]/button/i"
   ]
  },
  {
   "cell_type": "code",
   "execution_count": null,
   "id": "c8c060ff",
   "metadata": {},
   "outputs": [],
   "source": [
    "driver.find_elements(By.CSS_SELECTOR, \"[aria-label=Close]\")[1].find_element(By.TAG_NAME, 'i').click()"
   ]
  },
  {
   "cell_type": "code",
   "execution_count": null,
   "id": "3066acb1",
   "metadata": {},
   "outputs": [],
   "source": [
    "driver.find_element(By.XPATH, '/html/body/div[3]/div/div[1]/button/i').click()"
   ]
  },
  {
   "cell_type": "code",
   "execution_count": null,
   "id": "2c593b67",
   "metadata": {},
   "outputs": [],
   "source": [
    "all_rows[1].click()"
   ]
  },
  {
   "cell_type": "code",
   "execution_count": null,
   "id": "4a7c4582",
   "metadata": {},
   "outputs": [],
   "source": [
    "driver.find_element(By.XPATH, '/html/body/div[4]/div/div[1]/button')"
   ]
  },
  {
   "cell_type": "code",
   "execution_count": null,
   "id": "097da5b1",
   "metadata": {},
   "outputs": [],
   "source": [
    "driver.find_element(By.XPATH,'/html/body/div[4]/div/div[1]/button/i').click()"
   ]
  },
  {
   "cell_type": "code",
   "execution_count": null,
   "id": "b54f2d11",
   "metadata": {},
   "outputs": [],
   "source": [
    "close_buttons = driver.find_elements(By.CSS_SELECTOR, \"[aria-label=Close]\")"
   ]
  },
  {
   "cell_type": "code",
   "execution_count": null,
   "id": "9ab893be",
   "metadata": {},
   "outputs": [],
   "source": [
    "close_buttons"
   ]
  },
  {
   "cell_type": "code",
   "execution_count": null,
   "id": "5cba9fa9",
   "metadata": {},
   "outputs": [],
   "source": [
    "close_buttons"
   ]
  },
  {
   "cell_type": "code",
   "execution_count": null,
   "id": "7ae5230d",
   "metadata": {},
   "outputs": [],
   "source": [
    "close_buttons[1].click()"
   ]
  },
  {
   "cell_type": "code",
   "execution_count": null,
   "id": "041e5e99",
   "metadata": {},
   "outputs": [],
   "source": [
    "[button.label for button in buttons]"
   ]
  },
  {
   "cell_type": "code",
   "execution_count": null,
   "id": "dc6dbbf0",
   "metadata": {},
   "outputs": [],
   "source": [
    "driver.switch_to.default_content()"
   ]
  },
  {
   "cell_type": "code",
   "execution_count": null,
   "id": "41993ce1",
   "metadata": {},
   "outputs": [],
   "source": [
    "button[-1].click()"
   ]
  },
  {
   "cell_type": "code",
   "execution_count": null,
   "id": "331b420c",
   "metadata": {},
   "outputs": [],
   "source": [
    "pdf_url = driver.current_url"
   ]
  },
  {
   "cell_type": "code",
   "execution_count": null,
   "id": "0ec601e5",
   "metadata": {},
   "outputs": [],
   "source": [
    "os.path.basename(pdf_url)"
   ]
  },
  {
   "cell_type": "code",
   "execution_count": null,
   "id": "da78ef47",
   "metadata": {},
   "outputs": [],
   "source": [
    "pdf = requests.get(pdf_url, verify = False).content\n",
    "with open('pdf1.pdf', 'wb') as file:\n",
    "    file.write(pdf)"
   ]
  },
  {
   "cell_type": "code",
   "execution_count": null,
   "id": "6c9f22b6",
   "metadata": {},
   "outputs": [],
   "source": [
    "pdf_url = 'https://pmos.cq.sgcc.com.cn/px-settlement-infpubmeex/fileService/preview?fileId=nd720eea3e6cc4e9b8c171df0915aac1d#toolbar=0'"
   ]
  },
  {
   "cell_type": "code",
   "execution_count": null,
   "id": "995ec2a8",
   "metadata": {},
   "outputs": [],
   "source": [
    "driver.window_handles"
   ]
  },
  {
   "cell_type": "code",
   "execution_count": null,
   "id": "d1e38977",
   "metadata": {},
   "outputs": [],
   "source": [
    "driver.switch_to.window(driver.window_handles[0])"
   ]
  },
  {
   "cell_type": "code",
   "execution_count": null,
   "id": "b78eb18a",
   "metadata": {},
   "outputs": [],
   "source": []
  }
 ],
 "metadata": {
  "kernelspec": {
   "display_name": "Python 3 (ipykernel)",
   "language": "python",
   "name": "python3"
  },
  "language_info": {
   "codemirror_mode": {
    "name": "ipython",
    "version": 3
   },
   "file_extension": ".py",
   "mimetype": "text/x-python",
   "name": "python",
   "nbconvert_exporter": "python",
   "pygments_lexer": "ipython3",
   "version": "3.9.13"
  }
 },
 "nbformat": 4,
 "nbformat_minor": 5
}
