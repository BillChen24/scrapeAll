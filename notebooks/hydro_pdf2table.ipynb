{
 "cells": [
  {
   "cell_type": "code",
   "execution_count": 1,
   "id": "d85c866d",
   "metadata": {},
   "outputs": [],
   "source": [
    "import requests\n",
    "from bs4 import BeautifulSoup\n",
    "import pandas as pd\n",
    "import os\n",
    "import re\n",
    "import urllib\n",
    "from PIL import ImageFile"
   ]
  },
  {
   "cell_type": "code",
   "execution_count": 2,
   "id": "b309b2c1",
   "metadata": {},
   "outputs": [],
   "source": [
    "base_url = 'https://www.schwr.com/article/category/szydt-'\n",
    "page_num = 9\n",
    "year_above = '2016'\n",
    "keyword = '月份水量实况'\n",
    "output_path = 'hydro_pdfs/' #change to the location you want to store the pdfs "
   ]
  },
  {
   "cell_type": "code",
   "execution_count": 3,
   "id": "95c2c4e3",
   "metadata": {},
   "outputs": [],
   "source": [
    "def get_table_links_one_page(url, keyword = '月份水量实况', year_above = '2016'):\n",
    "    links_dict = {}\n",
    "    page = requests.get(url)\n",
    "    soup = BeautifulSoup(page.content)\n",
    "    links = soup.find_all('a')\n",
    "    for link in links:\n",
    "        try:\n",
    "            if keyword in link.text:\n",
    "                year_ = re.findall(r'\\d+', link.text)[0]\n",
    "                if year_ >= year_above:\n",
    "                    links_dict[link.text] = 'https://www.schwr.com'+link['href']\n",
    "        except:\n",
    "            continue\n",
    "    return links_dict\n",
    "\n",
    "def get_table_links_all_page(base_url, page_num, keyword = '月份水量实况', year_above = '2016'):\n",
    "    links_all_page = {}\n",
    "    for i in range(page_num):\n",
    "        url = base_url+str(i+1)\n",
    "        print(url)\n",
    "        links_one_page = get_table_links_one_page(url, keyword = keyword)\n",
    "        links_all_page.update(links_one_page)\n",
    "    return links_all_page"
   ]
  },
  {
   "cell_type": "code",
   "execution_count": 9,
   "id": "42f2305c",
   "metadata": {},
   "outputs": [
    {
     "name": "stdout",
     "output_type": "stream",
     "text": [
      "https://www.schwr.com/article/category/szydt-1\n",
      "https://www.schwr.com/article/category/szydt-2\n",
      "https://www.schwr.com/article/category/szydt-3\n",
      "https://www.schwr.com/article/category/szydt-4\n",
      "https://www.schwr.com/article/category/szydt-5\n",
      "https://www.schwr.com/article/category/szydt-6\n",
      "https://www.schwr.com/article/category/szydt-7\n",
      "https://www.schwr.com/article/category/szydt-8\n",
      "https://www.schwr.com/article/category/szydt-9\n"
     ]
    }
   ],
   "source": [
    "all_links = get_table_links_all_page(base_url, page_num, keyword)"
   ]
  },
  {
   "cell_type": "code",
   "execution_count": 12,
   "id": "31bb8143",
   "metadata": {},
   "outputs": [],
   "source": [
    "def download_images(url, output_path, name, size_threshold = 10000):\n",
    "    \"\"\"\n",
    "    download images that have size over threshold from webpage\n",
    "    \"\"\"\n",
    "    size_threshold = int(size_threshold)\n",
    "    if not os.path.exists(output_path):\n",
    "        os.makedirs(output_path)\n",
    "\n",
    "     #get all image url from the webpage\n",
    "    r = requests.get(url)\n",
    "    soup = BeautifulSoup(r.text, 'lxml')\n",
    "    image_urls = []\n",
    "    for i in soup.find_all('img'):\n",
    "        try:\n",
    "            image_urls.append(i['original'])\n",
    "        except:\n",
    "            image_urls.append(i['src'])\n",
    "\n",
    "    i = 0\n",
    "    for image_url in image_urls:\n",
    "        try:\n",
    "            file = urllib.request.urlopen(image_url)\n",
    "            img_size = file.headers.get(\"content-length\")\n",
    "            img_size = int(img_size)\n",
    "        except:\n",
    "            continue\n",
    "        if img_size >= size_threshold: # filter out irrelevant images\n",
    "            urllib.request.urlretrieve(image_url, os.path.join(output_path,name+'.jpg'))\n",
    "            i += 1\n",
    "    print('Images successfully saved at ' + output_path)"
   ]
  },
  {
   "cell_type": "code",
   "execution_count": 13,
   "id": "9907ac9a",
   "metadata": {},
   "outputs": [
    {
     "name": "stdout",
     "output_type": "stream",
     "text": [
      "Images successfully saved at hydro_pdfs/\n",
      "Images successfully saved at hydro_pdfs/\n",
      "Images successfully saved at hydro_pdfs/\n",
      "Images successfully saved at hydro_pdfs/\n",
      "Images successfully saved at hydro_pdfs/\n",
      "Images successfully saved at hydro_pdfs/\n",
      "Images successfully saved at hydro_pdfs/\n",
      "Images successfully saved at hydro_pdfs/\n",
      "Images successfully saved at hydro_pdfs/\n",
      "Images successfully saved at hydro_pdfs/\n",
      "Images successfully saved at hydro_pdfs/\n",
      "Images successfully saved at hydro_pdfs/\n",
      "Images successfully saved at hydro_pdfs/\n",
      "Images successfully saved at hydro_pdfs/\n",
      "Images successfully saved at hydro_pdfs/\n",
      "Images successfully saved at hydro_pdfs/\n",
      "Images successfully saved at hydro_pdfs/\n",
      "Images successfully saved at hydro_pdfs/\n",
      "Images successfully saved at hydro_pdfs/\n",
      "Images successfully saved at hydro_pdfs/\n",
      "Images successfully saved at hydro_pdfs/\n",
      "Images successfully saved at hydro_pdfs/\n",
      "Images successfully saved at hydro_pdfs/\n",
      "Images successfully saved at hydro_pdfs/\n",
      "Images successfully saved at hydro_pdfs/\n",
      "Images successfully saved at hydro_pdfs/\n",
      "Images successfully saved at hydro_pdfs/\n",
      "Images successfully saved at hydro_pdfs/\n",
      "Images successfully saved at hydro_pdfs/\n",
      "Images successfully saved at hydro_pdfs/\n",
      "Images successfully saved at hydro_pdfs/\n",
      "Images successfully saved at hydro_pdfs/\n",
      "Images successfully saved at hydro_pdfs/\n",
      "Images successfully saved at hydro_pdfs/\n",
      "Images successfully saved at hydro_pdfs/\n",
      "Images successfully saved at hydro_pdfs/\n",
      "Images successfully saved at hydro_pdfs/\n",
      "Images successfully saved at hydro_pdfs/\n",
      "Images successfully saved at hydro_pdfs/\n",
      "Images successfully saved at hydro_pdfs/\n",
      "Images successfully saved at hydro_pdfs/\n",
      "Images successfully saved at hydro_pdfs/\n",
      "Images successfully saved at hydro_pdfs/\n",
      "Images successfully saved at hydro_pdfs/\n",
      "Images successfully saved at hydro_pdfs/\n",
      "Images successfully saved at hydro_pdfs/\n",
      "Images successfully saved at hydro_pdfs/\n",
      "Images successfully saved at hydro_pdfs/\n",
      "Images successfully saved at hydro_pdfs/\n",
      "Images successfully saved at hydro_pdfs/\n",
      "Images successfully saved at hydro_pdfs/\n",
      "Images successfully saved at hydro_pdfs/\n",
      "Images successfully saved at hydro_pdfs/\n",
      "Images successfully saved at hydro_pdfs/\n",
      "Images successfully saved at hydro_pdfs/\n",
      "Images successfully saved at hydro_pdfs/\n",
      "Images successfully saved at hydro_pdfs/\n",
      "Images successfully saved at hydro_pdfs/\n",
      "Images successfully saved at hydro_pdfs/\n",
      "Images successfully saved at hydro_pdfs/\n",
      "Images successfully saved at hydro_pdfs/\n",
      "Images successfully saved at hydro_pdfs/\n",
      "Images successfully saved at hydro_pdfs/\n",
      "Images successfully saved at hydro_pdfs/\n",
      "Images successfully saved at hydro_pdfs/\n",
      "Images successfully saved at hydro_pdfs/\n",
      "Images successfully saved at hydro_pdfs/\n",
      "Images successfully saved at hydro_pdfs/\n",
      "Images successfully saved at hydro_pdfs/\n",
      "Images successfully saved at hydro_pdfs/\n",
      "Images successfully saved at hydro_pdfs/\n",
      "Images successfully saved at hydro_pdfs/\n",
      "Images successfully saved at hydro_pdfs/\n",
      "Images successfully saved at hydro_pdfs/\n",
      "Images successfully saved at hydro_pdfs/\n",
      "Images successfully saved at hydro_pdfs/\n",
      "Images successfully saved at hydro_pdfs/\n",
      "Images successfully saved at hydro_pdfs/\n",
      "Images successfully saved at hydro_pdfs/\n",
      "Images successfully saved at hydro_pdfs/\n"
     ]
    }
   ],
   "source": [
    "for name, url in all_links.items():\n",
    "    download_images(url, output_path, name, size_threshold=0)"
   ]
  },
  {
   "cell_type": "code",
   "execution_count": null,
   "id": "2f44b6f0",
   "metadata": {},
   "outputs": [],
   "source": [
    "#install if not already\n",
    "#!pip install tabula-py pytesseract"
   ]
  },
  {
   "cell_type": "code",
   "execution_count": 4,
   "id": "a269d37c",
   "metadata": {},
   "outputs": [],
   "source": [
    "import os\n",
    "import tabula\n",
    "import pytesseract\n",
    "import pandas as pd\n",
    "import PIL"
   ]
  },
  {
   "cell_type": "code",
   "execution_count": 5,
   "id": "2b6f8557",
   "metadata": {},
   "outputs": [],
   "source": [
    "pytesseract.pytesseract.tesseract_cmd = r'C:\\Program Files\\Tesseract-OCR\\tesseract.exe'"
   ]
  },
  {
   "cell_type": "code",
   "execution_count": null,
   "id": "d27b3d4f",
   "metadata": {},
   "outputs": [],
   "source": [
    "# Set the path to the input folder containing the images\n",
    "input_folder = output_path\n",
    "\n",
    "# Set the path to the output folder to store the Excel files\n",
    "output_folder = output_path\n",
    "\n",
    "# Loop over all the image files in the input folder\n",
    "for filename in os.listdir(input_folder):\n",
    "    if filename.endswith(\".png\") or filename.endswith(\".jpg\"):\n",
    "        # Set the path to the input image file\n",
    "        input_image = os.path.join(input_folder, filename)\n",
    "\n",
    "        # Extract text from the image using pytesseract\n",
    "        text = pytesseract.image_to_string(PIL.Image.open(input_image), lang='chi_sim')\n",
    "\n",
    "        # Find the table in the text using tabula\n",
    "        tables = tabula.read_pdf(input_image, pages=\"all\")\n",
    "\n",
    "        # Convert the table to a Pandas DataFrame\n",
    "        df = pd.DataFrame(tables[0])\n",
    "\n",
    "        # Set the path to the output Excel file\n",
    "        output_excel = os.path.join(output_folder, os.path.splitext(filename)[0] + \".xlsx\")\n",
    "\n",
    "        # Write the DataFrame to the output Excel file\n",
    "        df.to_excel(output_excel, index=False)"
   ]
  },
  {
   "cell_type": "code",
   "execution_count": 6,
   "id": "abeea35a",
   "metadata": {},
   "outputs": [],
   "source": [
    "text = pytesseract.image_to_string(PIL.Image.open('hydro_pdfs/四川省2023年二月份水量实况image_0.jpg'), lang='chi_sim')"
   ]
  },
  {
   "cell_type": "code",
   "execution_count": 8,
   "id": "3f8e9833",
   "metadata": {},
   "outputs": [
    {
     "data": {
      "text/plain": [
       "'2023 年 2 月四川省主要江河水量及与常年同期比较情况表\\n\\n来水量                     同比\\n月份            河流名称\\n(亿ma)                    (3%)\\n雅车江               28.70                  50.3\\n安宁河                2.46                    7.5\\n大渡河       21.38        107.9\\n青衣江                487                   58.0\\n2月                岷江                    29.85                      28.6\\n沱江                3.18                 67.1\\n党江        3.33         19.0\\n嘉陵江                      11.04                         75.8\\n渠江                3.80                 41.3\\n\\n'"
      ]
     },
     "execution_count": 8,
     "metadata": {},
     "output_type": "execute_result"
    }
   ],
   "source": [
    "text"
   ]
  },
  {
   "cell_type": "code",
   "execution_count": 7,
   "id": "04cb06bc",
   "metadata": {},
   "outputs": [
    {
     "ename": "ValueError",
     "evalue": "No tables found",
     "output_type": "error",
     "traceback": [
      "\u001b[1;31m---------------------------------------------------------------------------\u001b[0m",
      "\u001b[1;31mValueError\u001b[0m                                Traceback (most recent call last)",
      "\u001b[1;32m~\\AppData\\Local\\Temp\\ipykernel_51452\\1475143127.py\u001b[0m in \u001b[0;36m<module>\u001b[1;34m\u001b[0m\n\u001b[1;32m----> 1\u001b[1;33m \u001b[0mdf\u001b[0m \u001b[1;33m=\u001b[0m \u001b[0mpd\u001b[0m\u001b[1;33m.\u001b[0m\u001b[0mread_html\u001b[0m\u001b[1;33m(\u001b[0m\u001b[0mtext\u001b[0m\u001b[1;33m)\u001b[0m\u001b[1;33m[\u001b[0m\u001b[1;36m0\u001b[0m\u001b[1;33m]\u001b[0m\u001b[1;33m\u001b[0m\u001b[1;33m\u001b[0m\u001b[0m\n\u001b[0m",
      "\u001b[1;32m~\\anaconda3\\lib\\site-packages\\pandas\\util\\_decorators.py\u001b[0m in \u001b[0;36mwrapper\u001b[1;34m(*args, **kwargs)\u001b[0m\n\u001b[0;32m    309\u001b[0m                     \u001b[0mstacklevel\u001b[0m\u001b[1;33m=\u001b[0m\u001b[0mstacklevel\u001b[0m\u001b[1;33m,\u001b[0m\u001b[1;33m\u001b[0m\u001b[1;33m\u001b[0m\u001b[0m\n\u001b[0;32m    310\u001b[0m                 )\n\u001b[1;32m--> 311\u001b[1;33m             \u001b[1;32mreturn\u001b[0m \u001b[0mfunc\u001b[0m\u001b[1;33m(\u001b[0m\u001b[1;33m*\u001b[0m\u001b[0margs\u001b[0m\u001b[1;33m,\u001b[0m \u001b[1;33m**\u001b[0m\u001b[0mkwargs\u001b[0m\u001b[1;33m)\u001b[0m\u001b[1;33m\u001b[0m\u001b[1;33m\u001b[0m\u001b[0m\n\u001b[0m\u001b[0;32m    312\u001b[0m \u001b[1;33m\u001b[0m\u001b[0m\n\u001b[0;32m    313\u001b[0m         \u001b[1;32mreturn\u001b[0m \u001b[0mwrapper\u001b[0m\u001b[1;33m\u001b[0m\u001b[1;33m\u001b[0m\u001b[0m\n",
      "\u001b[1;32m~\\anaconda3\\lib\\site-packages\\pandas\\io\\html.py\u001b[0m in \u001b[0;36mread_html\u001b[1;34m(io, match, flavor, header, index_col, skiprows, attrs, parse_dates, thousands, encoding, decimal, converters, na_values, keep_default_na, displayed_only)\u001b[0m\n\u001b[0;32m   1111\u001b[0m     \u001b[0mio\u001b[0m \u001b[1;33m=\u001b[0m \u001b[0mstringify_path\u001b[0m\u001b[1;33m(\u001b[0m\u001b[0mio\u001b[0m\u001b[1;33m)\u001b[0m\u001b[1;33m\u001b[0m\u001b[1;33m\u001b[0m\u001b[0m\n\u001b[0;32m   1112\u001b[0m \u001b[1;33m\u001b[0m\u001b[0m\n\u001b[1;32m-> 1113\u001b[1;33m     return _parse(\n\u001b[0m\u001b[0;32m   1114\u001b[0m         \u001b[0mflavor\u001b[0m\u001b[1;33m=\u001b[0m\u001b[0mflavor\u001b[0m\u001b[1;33m,\u001b[0m\u001b[1;33m\u001b[0m\u001b[1;33m\u001b[0m\u001b[0m\n\u001b[0;32m   1115\u001b[0m         \u001b[0mio\u001b[0m\u001b[1;33m=\u001b[0m\u001b[0mio\u001b[0m\u001b[1;33m,\u001b[0m\u001b[1;33m\u001b[0m\u001b[1;33m\u001b[0m\u001b[0m\n",
      "\u001b[1;32m~\\anaconda3\\lib\\site-packages\\pandas\\io\\html.py\u001b[0m in \u001b[0;36m_parse\u001b[1;34m(flavor, io, match, attrs, encoding, displayed_only, **kwargs)\u001b[0m\n\u001b[0;32m    937\u001b[0m     \u001b[1;32melse\u001b[0m\u001b[1;33m:\u001b[0m\u001b[1;33m\u001b[0m\u001b[1;33m\u001b[0m\u001b[0m\n\u001b[0;32m    938\u001b[0m         \u001b[1;32massert\u001b[0m \u001b[0mretained\u001b[0m \u001b[1;32mis\u001b[0m \u001b[1;32mnot\u001b[0m \u001b[1;32mNone\u001b[0m  \u001b[1;31m# for mypy\u001b[0m\u001b[1;33m\u001b[0m\u001b[1;33m\u001b[0m\u001b[0m\n\u001b[1;32m--> 939\u001b[1;33m         \u001b[1;32mraise\u001b[0m \u001b[0mretained\u001b[0m\u001b[1;33m\u001b[0m\u001b[1;33m\u001b[0m\u001b[0m\n\u001b[0m\u001b[0;32m    940\u001b[0m \u001b[1;33m\u001b[0m\u001b[0m\n\u001b[0;32m    941\u001b[0m     \u001b[0mret\u001b[0m \u001b[1;33m=\u001b[0m \u001b[1;33m[\u001b[0m\u001b[1;33m]\u001b[0m\u001b[1;33m\u001b[0m\u001b[1;33m\u001b[0m\u001b[0m\n",
      "\u001b[1;32m~\\anaconda3\\lib\\site-packages\\pandas\\io\\html.py\u001b[0m in \u001b[0;36m_parse\u001b[1;34m(flavor, io, match, attrs, encoding, displayed_only, **kwargs)\u001b[0m\n\u001b[0;32m    917\u001b[0m \u001b[1;33m\u001b[0m\u001b[0m\n\u001b[0;32m    918\u001b[0m         \u001b[1;32mtry\u001b[0m\u001b[1;33m:\u001b[0m\u001b[1;33m\u001b[0m\u001b[1;33m\u001b[0m\u001b[0m\n\u001b[1;32m--> 919\u001b[1;33m             \u001b[0mtables\u001b[0m \u001b[1;33m=\u001b[0m \u001b[0mp\u001b[0m\u001b[1;33m.\u001b[0m\u001b[0mparse_tables\u001b[0m\u001b[1;33m(\u001b[0m\u001b[1;33m)\u001b[0m\u001b[1;33m\u001b[0m\u001b[1;33m\u001b[0m\u001b[0m\n\u001b[0m\u001b[0;32m    920\u001b[0m         \u001b[1;32mexcept\u001b[0m \u001b[0mValueError\u001b[0m \u001b[1;32mas\u001b[0m \u001b[0mcaught\u001b[0m\u001b[1;33m:\u001b[0m\u001b[1;33m\u001b[0m\u001b[1;33m\u001b[0m\u001b[0m\n\u001b[0;32m    921\u001b[0m             \u001b[1;31m# if `io` is an io-like object, check if it's seekable\u001b[0m\u001b[1;33m\u001b[0m\u001b[1;33m\u001b[0m\u001b[0m\n",
      "\u001b[1;32m~\\anaconda3\\lib\\site-packages\\pandas\\io\\html.py\u001b[0m in \u001b[0;36mparse_tables\u001b[1;34m(self)\u001b[0m\n\u001b[0;32m    237\u001b[0m         \u001b[0mlist\u001b[0m \u001b[0mof\u001b[0m \u001b[0mparsed\u001b[0m \u001b[1;33m(\u001b[0m\u001b[0mheader\u001b[0m\u001b[1;33m,\u001b[0m \u001b[0mbody\u001b[0m\u001b[1;33m,\u001b[0m \u001b[0mfooter\u001b[0m\u001b[1;33m)\u001b[0m \u001b[0mtuples\u001b[0m \u001b[1;32mfrom\u001b[0m \u001b[0mtables\u001b[0m\u001b[1;33m.\u001b[0m\u001b[1;33m\u001b[0m\u001b[1;33m\u001b[0m\u001b[0m\n\u001b[0;32m    238\u001b[0m         \"\"\"\n\u001b[1;32m--> 239\u001b[1;33m         \u001b[0mtables\u001b[0m \u001b[1;33m=\u001b[0m \u001b[0mself\u001b[0m\u001b[1;33m.\u001b[0m\u001b[0m_parse_tables\u001b[0m\u001b[1;33m(\u001b[0m\u001b[0mself\u001b[0m\u001b[1;33m.\u001b[0m\u001b[0m_build_doc\u001b[0m\u001b[1;33m(\u001b[0m\u001b[1;33m)\u001b[0m\u001b[1;33m,\u001b[0m \u001b[0mself\u001b[0m\u001b[1;33m.\u001b[0m\u001b[0mmatch\u001b[0m\u001b[1;33m,\u001b[0m \u001b[0mself\u001b[0m\u001b[1;33m.\u001b[0m\u001b[0mattrs\u001b[0m\u001b[1;33m)\u001b[0m\u001b[1;33m\u001b[0m\u001b[1;33m\u001b[0m\u001b[0m\n\u001b[0m\u001b[0;32m    240\u001b[0m         \u001b[1;32mreturn\u001b[0m \u001b[1;33m(\u001b[0m\u001b[0mself\u001b[0m\u001b[1;33m.\u001b[0m\u001b[0m_parse_thead_tbody_tfoot\u001b[0m\u001b[1;33m(\u001b[0m\u001b[0mtable\u001b[0m\u001b[1;33m)\u001b[0m \u001b[1;32mfor\u001b[0m \u001b[0mtable\u001b[0m \u001b[1;32min\u001b[0m \u001b[0mtables\u001b[0m\u001b[1;33m)\u001b[0m\u001b[1;33m\u001b[0m\u001b[1;33m\u001b[0m\u001b[0m\n\u001b[0;32m    241\u001b[0m \u001b[1;33m\u001b[0m\u001b[0m\n",
      "\u001b[1;32m~\\anaconda3\\lib\\site-packages\\pandas\\io\\html.py\u001b[0m in \u001b[0;36m_parse_tables\u001b[1;34m(self, doc, match, attrs)\u001b[0m\n\u001b[0;32m    567\u001b[0m \u001b[1;33m\u001b[0m\u001b[0m\n\u001b[0;32m    568\u001b[0m         \u001b[1;32mif\u001b[0m \u001b[1;32mnot\u001b[0m \u001b[0mtables\u001b[0m\u001b[1;33m:\u001b[0m\u001b[1;33m\u001b[0m\u001b[1;33m\u001b[0m\u001b[0m\n\u001b[1;32m--> 569\u001b[1;33m             \u001b[1;32mraise\u001b[0m \u001b[0mValueError\u001b[0m\u001b[1;33m(\u001b[0m\u001b[1;34m\"No tables found\"\u001b[0m\u001b[1;33m)\u001b[0m\u001b[1;33m\u001b[0m\u001b[1;33m\u001b[0m\u001b[0m\n\u001b[0m\u001b[0;32m    570\u001b[0m \u001b[1;33m\u001b[0m\u001b[0m\n\u001b[0;32m    571\u001b[0m         \u001b[0mresult\u001b[0m \u001b[1;33m=\u001b[0m \u001b[1;33m[\u001b[0m\u001b[1;33m]\u001b[0m\u001b[1;33m\u001b[0m\u001b[1;33m\u001b[0m\u001b[0m\n",
      "\u001b[1;31mValueError\u001b[0m: No tables found"
     ]
    }
   ],
   "source": [
    "df = pd.read_html(text)[0]"
   ]
  },
  {
   "cell_type": "code",
   "execution_count": null,
   "id": "31abaf4d",
   "metadata": {},
   "outputs": [],
   "source": []
  }
 ],
 "metadata": {
  "kernelspec": {
   "display_name": "Python 3 (ipykernel)",
   "language": "python",
   "name": "python3"
  },
  "language_info": {
   "codemirror_mode": {
    "name": "ipython",
    "version": 3
   },
   "file_extension": ".py",
   "mimetype": "text/x-python",
   "name": "python",
   "nbconvert_exporter": "python",
   "pygments_lexer": "ipython3",
   "version": "3.9.13"
  }
 },
 "nbformat": 4,
 "nbformat_minor": 5
}
