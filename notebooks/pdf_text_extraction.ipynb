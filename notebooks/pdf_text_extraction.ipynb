{
 "cells": [
  {
   "cell_type": "code",
   "execution_count": 1,
   "id": "b61f63f2",
   "metadata": {},
   "outputs": [],
   "source": [
    "import sys\n",
    "import os\n",
    "os.chdir(\"C:\\\\Users\\\\Bill Chen\\\\Desktop\\\\UCSD Course\\\\MD Lab\\\\scrapeAll\")"
   ]
  },
  {
   "cell_type": "code",
   "execution_count": null,
   "id": "cd8aedbf",
   "metadata": {},
   "outputs": [],
   "source": [
    "from pdf2image import convert_from_path\n",
    "from PIL import Image\n",
    "import pytesseract"
   ]
  },
  {
   "cell_type": "code",
   "execution_count": 2,
   "id": "a3315b06",
   "metadata": {},
   "outputs": [],
   "source": [
    "from src.getClean.pdf_to_image import *\n",
    "from src.getClean.image_to_text import *"
   ]
  },
  {
   "cell_type": "code",
   "execution_count": null,
   "id": "f8268602",
   "metadata": {},
   "outputs": [],
   "source": [
    "test_pdf = os.listdir(\"data/Test/temp/Shandong_firm_month/\")\n",
    "test_pdf"
   ]
  },
  {
   "cell_type": "code",
   "execution_count": null,
   "id": "52d9a064",
   "metadata": {},
   "outputs": [],
   "source": [
    "pdf_path = 'data/Test/raw/Shandong_firm_month/山东省2020年年度电力直接交易（双边协商）公告/山东省2020年年度电力直接交易（双边协商）公告.pdf.pdf'\n",
    "poppler_path=r\"C:\\Program Files\\poppler-0.68.0\\bin\""
   ]
  },
  {
   "cell_type": "code",
   "execution_count": null,
   "id": "91b4a3ba",
   "metadata": {},
   "outputs": [],
   "source": [
    "save_image_from_pdf(pdf_path=pdf_path, image_path='data/Test/temp/Shandong_firm_month/')"
   ]
  },
  {
   "cell_type": "code",
   "execution_count": null,
   "id": "4efc76b2",
   "metadata": {},
   "outputs": [],
   "source": [
    "image_path='data/Test/temp/Shandong_firm_month/'\n",
    "txt_path='data/Test/clean/text/Shandong_firm_month/'"
   ]
  },
  {
   "cell_type": "code",
   "execution_count": null,
   "id": "3c0e7884",
   "metadata": {
    "scrolled": true
   },
   "outputs": [],
   "source": [
    "save_text_from_image(image_path=image_path, txt_path=txt_path)"
   ]
  },
  {
   "cell_type": "code",
   "execution_count": null,
   "id": "a77420b8",
   "metadata": {},
   "outputs": [],
   "source": [
    "#output_file('data/Test/temp/Shandong_firm_month/pdf_text.txt', pdf_text)"
   ]
  },
  {
   "cell_type": "code",
   "execution_count": null,
   "id": "2161f5bd",
   "metadata": {},
   "outputs": [],
   "source": [
    "#page0=Image.open('data/Test/temp/Shandong_firm_month/page_0.jpg')"
   ]
  },
  {
   "cell_type": "code",
   "execution_count": null,
   "id": "570661ee",
   "metadata": {},
   "outputs": [],
   "source": [
    "#pytesseract.image_to_string(page0)"
   ]
  },
  {
   "cell_type": "code",
   "execution_count": null,
   "id": "46355430",
   "metadata": {},
   "outputs": [],
   "source": [
    "os.path.join()"
   ]
  },
  {
   "cell_type": "code",
   "execution_count": 3,
   "id": "581f386e",
   "metadata": {},
   "outputs": [
    {
     "name": "stdout",
     "output_type": "stream",
     "text": [
      "Pdf images successfully saved at data/Test/raw/Guangdong_prov_month/bjx\\temp/\n"
     ]
    }
   ],
   "source": [
    "save_image_from_pdf(pdf_path='data/Test/raw/Guangdong_prov_month/bjx/10月集中竞争结果.pdf')"
   ]
  },
  {
   "cell_type": "code",
   "execution_count": 4,
   "id": "078c44f9",
   "metadata": {},
   "outputs": [
    {
     "name": "stdout",
     "output_type": "stream",
     "text": [
      "Pdf images successfully saved at data/Test/raw/Guangdong_prov_month/易电在线\\temp/\n"
     ]
    }
   ],
   "source": [
    "save_image_from_pdf(pdf_path='data/Test/raw/Guangdong_prov_month/易电在线/10月集中竞价发电公司.pdf')"
   ]
  },
  {
   "cell_type": "code",
   "execution_count": null,
   "id": "9041cf6d",
   "metadata": {},
   "outputs": [],
   "source": [
    "save_text_from_image(image_path = 'data/Test/raw/Guangdong_prov_month/易电在线/')"
   ]
  },
  {
   "cell_type": "code",
   "execution_count": null,
   "id": "cba4bf5c",
   "metadata": {},
   "outputs": [],
   "source": []
  }
 ],
 "metadata": {
  "kernelspec": {
   "display_name": "Python 3 (ipykernel)",
   "language": "python",
   "name": "python3"
  },
  "language_info": {
   "codemirror_mode": {
    "name": "ipython",
    "version": 3
   },
   "file_extension": ".py",
   "mimetype": "text/x-python",
   "name": "python",
   "nbconvert_exporter": "python",
   "pygments_lexer": "ipython3",
   "version": "3.9.13"
  }
 },
 "nbformat": 4,
 "nbformat_minor": 5
}
