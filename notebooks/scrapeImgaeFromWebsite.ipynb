{
 "cells": [
  {
   "cell_type": "code",
   "execution_count": 25,
   "id": "d2c7658d",
   "metadata": {},
   "outputs": [],
   "source": [
    "import requests \n",
    "from bs4 import BeautifulSoup\n",
    "import os"
   ]
  },
  {
   "cell_type": "code",
   "execution_count": 3,
   "id": "76faa80c",
   "metadata": {},
   "outputs": [],
   "source": [
    "url = 'https://zhuanlan.zhihu.com/p/120926031'\n",
    "r = requests.get(url)"
   ]
  },
  {
   "cell_type": "code",
   "execution_count": 6,
   "id": "5e5eef1e",
   "metadata": {},
   "outputs": [],
   "source": [
    "soup = BeautifulSoup(r.text, 'lxml')"
   ]
  },
  {
   "cell_type": "code",
   "execution_count": 10,
   "id": "03147593",
   "metadata": {},
   "outputs": [],
   "source": [
    "all_imgs = soup.find_all('img')"
   ]
  },
  {
   "cell_type": "code",
   "execution_count": 16,
   "id": "0de90dca",
   "metadata": {},
   "outputs": [],
   "source": [
    "image_urls = [i['src'] for i in all_imgs]"
   ]
  },
  {
   "cell_type": "code",
   "execution_count": 17,
   "id": "6ff78062",
   "metadata": {},
   "outputs": [
    {
     "data": {
      "text/plain": [
       "[\"data:image/svg+xml;utf8,<svg xmlns='http://www.w3.org/2000/svg'></svg>\",\n",
       " 'https://pic1.zhimg.com/v2-5deaec1dca517a4bec82dc3d6f2e9bfb_l.jpg?source=172ae18b',\n",
       " 'https://pic4.zhimg.com/v2-1f79b82de4386eed8db21fccc507afe7_b.jpg',\n",
       " \"data:image/svg+xml;utf8,<svg xmlns='http://www.w3.org/2000/svg' width='640' height='905'></svg>\",\n",
       " 'https://pic4.zhimg.com/v2-6b5c1df13af0979a0bf08295205e512f_b.jpg',\n",
       " \"data:image/svg+xml;utf8,<svg xmlns='http://www.w3.org/2000/svg' width='640' height='905'></svg>\",\n",
       " 'https://pic1.zhimg.com/v2-77c2d4fa240c80a1cfd026280bfc33e8_b.jpg',\n",
       " \"data:image/svg+xml;utf8,<svg xmlns='http://www.w3.org/2000/svg' width='640' height='905'></svg>\",\n",
       " 'https://pic3.zhimg.com/v2-e9983fb06dcc3f62fe56812f853695da_b.jpg',\n",
       " \"data:image/svg+xml;utf8,<svg xmlns='http://www.w3.org/2000/svg' width='640' height='905'></svg>\"]"
      ]
     },
     "execution_count": 17,
     "metadata": {},
     "output_type": "execute_result"
    }
   ],
   "source": [
    "image_urls"
   ]
  },
  {
   "cell_type": "code",
   "execution_count": 26,
   "id": "f87b6189",
   "metadata": {},
   "outputs": [
    {
     "name": "stdout",
     "output_type": "stream",
     "text": [
      "Does not work:data:image/svg+xml;utf8,<svg xmlns='http://www.w3.org/2000/svg'></svg>\n",
      "Work: https://pic1.zhimg.com/v2-5deaec1dca517a4bec82dc3d6f2e9bfb_l.jpg?source=172ae18b\n",
      "Work: https://pic4.zhimg.com/v2-1f79b82de4386eed8db21fccc507afe7_b.jpg\n",
      "Does not work:data:image/svg+xml;utf8,<svg xmlns='http://www.w3.org/2000/svg' width='640' height='905'></svg>\n",
      "Work: https://pic4.zhimg.com/v2-6b5c1df13af0979a0bf08295205e512f_b.jpg\n",
      "Does not work:data:image/svg+xml;utf8,<svg xmlns='http://www.w3.org/2000/svg' width='640' height='905'></svg>\n",
      "Work: https://pic1.zhimg.com/v2-77c2d4fa240c80a1cfd026280bfc33e8_b.jpg\n",
      "Does not work:data:image/svg+xml;utf8,<svg xmlns='http://www.w3.org/2000/svg' width='640' height='905'></svg>\n",
      "Work: https://pic3.zhimg.com/v2-e9983fb06dcc3f62fe56812f853695da_b.jpg\n",
      "Does not work:data:image/svg+xml;utf8,<svg xmlns='http://www.w3.org/2000/svg' width='640' height='905'></svg>\n"
     ]
    }
   ],
   "source": [
    "i=0\n",
    "output_path = 'temp/'\n",
    "if not os.path.exists(output_path):\n",
    "    os.makedirs(output_path)\n",
    "for item in all_imgs:\n",
    "    image_url = item['src']\n",
    "    try:\n",
    "        img_data = requests.get(image_url).content\n",
    "    except:\n",
    "        print('Does not work:' + image_url)\n",
    "        continue\n",
    "    with open(os.path.join(output_path,f'image_{i}.jpg'), 'wb') as handler:\n",
    "        print('Work: '+image_url)\n",
    "        handler.write(img_data)\n",
    "    i=i+1"
   ]
  },
  {
   "cell_type": "code",
   "execution_count": null,
   "id": "0a57bcf3",
   "metadata": {},
   "outputs": [],
   "source": [
    "def getdata(url): \n",
    "    r = requests.get(url) \n",
    "    return r.text \n",
    "    \n",
    "htmldata = getdata(\"https://www.geeksforgeeks.org/\") \n",
    "soup = BeautifulSoup(htmldata, 'html.parser') \n",
    "for item in soup.find_all('img'):\n",
    "    print(item['src'])"
   ]
  }
 ],
 "metadata": {
  "kernelspec": {
   "display_name": "Python 3 (ipykernel)",
   "language": "python",
   "name": "python3"
  },
  "language_info": {
   "codemirror_mode": {
    "name": "ipython",
    "version": 3
   },
   "file_extension": ".py",
   "mimetype": "text/x-python",
   "name": "python",
   "nbconvert_exporter": "python",
   "pygments_lexer": "ipython3",
   "version": "3.9.13"
  }
 },
 "nbformat": 4,
 "nbformat_minor": 5
}
