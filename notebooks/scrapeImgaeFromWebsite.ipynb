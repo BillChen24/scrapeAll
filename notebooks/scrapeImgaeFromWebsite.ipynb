{
 "cells": [
  {
   "cell_type": "code",
   "execution_count": 18,
   "id": "d2c7658d",
   "metadata": {},
   "outputs": [],
   "source": [
    "import requests \n",
    "from bs4 import BeautifulSoup\n",
    "import os"
   ]
  },
  {
   "cell_type": "code",
   "execution_count": 28,
   "id": "76faa80c",
   "metadata": {},
   "outputs": [
    {
     "ename": "ConnectionError",
     "evalue": "HTTPSConnectionPool(host='www.ne21.com', port=443): Max retries exceeded with url: /news/show-79555.html (Caused by NewConnectionError('<urllib3.connection.HTTPSConnection object at 0x000002BF9A8A0730>: Failed to establish a new connection: [WinError 10060] A connection attempt failed because the connected party did not properly respond after a period of time, or established connection failed because connected host has failed to respond'))",
     "output_type": "error",
     "traceback": [
      "\u001b[1;31m---------------------------------------------------------------------------\u001b[0m",
      "\u001b[1;31mTimeoutError\u001b[0m                              Traceback (most recent call last)",
      "\u001b[1;32m~\\anaconda3\\lib\\site-packages\\urllib3\\connection.py\u001b[0m in \u001b[0;36m_new_conn\u001b[1;34m(self)\u001b[0m\n\u001b[0;32m    173\u001b[0m         \u001b[1;32mtry\u001b[0m\u001b[1;33m:\u001b[0m\u001b[1;33m\u001b[0m\u001b[1;33m\u001b[0m\u001b[0m\n\u001b[1;32m--> 174\u001b[1;33m             conn = connection.create_connection(\n\u001b[0m\u001b[0;32m    175\u001b[0m                 \u001b[1;33m(\u001b[0m\u001b[0mself\u001b[0m\u001b[1;33m.\u001b[0m\u001b[0m_dns_host\u001b[0m\u001b[1;33m,\u001b[0m \u001b[0mself\u001b[0m\u001b[1;33m.\u001b[0m\u001b[0mport\u001b[0m\u001b[1;33m)\u001b[0m\u001b[1;33m,\u001b[0m \u001b[0mself\u001b[0m\u001b[1;33m.\u001b[0m\u001b[0mtimeout\u001b[0m\u001b[1;33m,\u001b[0m \u001b[1;33m**\u001b[0m\u001b[0mextra_kw\u001b[0m\u001b[1;33m\u001b[0m\u001b[1;33m\u001b[0m\u001b[0m\n",
      "\u001b[1;32m~\\anaconda3\\lib\\site-packages\\urllib3\\util\\connection.py\u001b[0m in \u001b[0;36mcreate_connection\u001b[1;34m(address, timeout, source_address, socket_options)\u001b[0m\n\u001b[0;32m     94\u001b[0m     \u001b[1;32mif\u001b[0m \u001b[0merr\u001b[0m \u001b[1;32mis\u001b[0m \u001b[1;32mnot\u001b[0m \u001b[1;32mNone\u001b[0m\u001b[1;33m:\u001b[0m\u001b[1;33m\u001b[0m\u001b[1;33m\u001b[0m\u001b[0m\n\u001b[1;32m---> 95\u001b[1;33m         \u001b[1;32mraise\u001b[0m \u001b[0merr\u001b[0m\u001b[1;33m\u001b[0m\u001b[1;33m\u001b[0m\u001b[0m\n\u001b[0m\u001b[0;32m     96\u001b[0m \u001b[1;33m\u001b[0m\u001b[0m\n",
      "\u001b[1;32m~\\anaconda3\\lib\\site-packages\\urllib3\\util\\connection.py\u001b[0m in \u001b[0;36mcreate_connection\u001b[1;34m(address, timeout, source_address, socket_options)\u001b[0m\n\u001b[0;32m     84\u001b[0m                 \u001b[0msock\u001b[0m\u001b[1;33m.\u001b[0m\u001b[0mbind\u001b[0m\u001b[1;33m(\u001b[0m\u001b[0msource_address\u001b[0m\u001b[1;33m)\u001b[0m\u001b[1;33m\u001b[0m\u001b[1;33m\u001b[0m\u001b[0m\n\u001b[1;32m---> 85\u001b[1;33m             \u001b[0msock\u001b[0m\u001b[1;33m.\u001b[0m\u001b[0mconnect\u001b[0m\u001b[1;33m(\u001b[0m\u001b[0msa\u001b[0m\u001b[1;33m)\u001b[0m\u001b[1;33m\u001b[0m\u001b[1;33m\u001b[0m\u001b[0m\n\u001b[0m\u001b[0;32m     86\u001b[0m             \u001b[1;32mreturn\u001b[0m \u001b[0msock\u001b[0m\u001b[1;33m\u001b[0m\u001b[1;33m\u001b[0m\u001b[0m\n",
      "\u001b[1;31mTimeoutError\u001b[0m: [WinError 10060] A connection attempt failed because the connected party did not properly respond after a period of time, or established connection failed because connected host has failed to respond",
      "\nDuring handling of the above exception, another exception occurred:\n",
      "\u001b[1;31mNewConnectionError\u001b[0m                        Traceback (most recent call last)",
      "\u001b[1;32m~\\anaconda3\\lib\\site-packages\\urllib3\\connectionpool.py\u001b[0m in \u001b[0;36murlopen\u001b[1;34m(self, method, url, body, headers, retries, redirect, assert_same_host, timeout, pool_timeout, release_conn, chunked, body_pos, **response_kw)\u001b[0m\n\u001b[0;32m    702\u001b[0m             \u001b[1;31m# Make the request on the httplib connection object.\u001b[0m\u001b[1;33m\u001b[0m\u001b[1;33m\u001b[0m\u001b[0m\n\u001b[1;32m--> 703\u001b[1;33m             httplib_response = self._make_request(\n\u001b[0m\u001b[0;32m    704\u001b[0m                 \u001b[0mconn\u001b[0m\u001b[1;33m,\u001b[0m\u001b[1;33m\u001b[0m\u001b[1;33m\u001b[0m\u001b[0m\n",
      "\u001b[1;32m~\\anaconda3\\lib\\site-packages\\urllib3\\connectionpool.py\u001b[0m in \u001b[0;36m_make_request\u001b[1;34m(self, conn, method, url, timeout, chunked, **httplib_request_kw)\u001b[0m\n\u001b[0;32m    385\u001b[0m         \u001b[1;32mtry\u001b[0m\u001b[1;33m:\u001b[0m\u001b[1;33m\u001b[0m\u001b[1;33m\u001b[0m\u001b[0m\n\u001b[1;32m--> 386\u001b[1;33m             \u001b[0mself\u001b[0m\u001b[1;33m.\u001b[0m\u001b[0m_validate_conn\u001b[0m\u001b[1;33m(\u001b[0m\u001b[0mconn\u001b[0m\u001b[1;33m)\u001b[0m\u001b[1;33m\u001b[0m\u001b[1;33m\u001b[0m\u001b[0m\n\u001b[0m\u001b[0;32m    387\u001b[0m         \u001b[1;32mexcept\u001b[0m \u001b[1;33m(\u001b[0m\u001b[0mSocketTimeout\u001b[0m\u001b[1;33m,\u001b[0m \u001b[0mBaseSSLError\u001b[0m\u001b[1;33m)\u001b[0m \u001b[1;32mas\u001b[0m \u001b[0me\u001b[0m\u001b[1;33m:\u001b[0m\u001b[1;33m\u001b[0m\u001b[1;33m\u001b[0m\u001b[0m\n",
      "\u001b[1;32m~\\anaconda3\\lib\\site-packages\\urllib3\\connectionpool.py\u001b[0m in \u001b[0;36m_validate_conn\u001b[1;34m(self, conn)\u001b[0m\n\u001b[0;32m   1041\u001b[0m         \u001b[1;32mif\u001b[0m \u001b[1;32mnot\u001b[0m \u001b[0mgetattr\u001b[0m\u001b[1;33m(\u001b[0m\u001b[0mconn\u001b[0m\u001b[1;33m,\u001b[0m \u001b[1;34m\"sock\"\u001b[0m\u001b[1;33m,\u001b[0m \u001b[1;32mNone\u001b[0m\u001b[1;33m)\u001b[0m\u001b[1;33m:\u001b[0m  \u001b[1;31m# AppEngine might not have  `.sock`\u001b[0m\u001b[1;33m\u001b[0m\u001b[1;33m\u001b[0m\u001b[0m\n\u001b[1;32m-> 1042\u001b[1;33m             \u001b[0mconn\u001b[0m\u001b[1;33m.\u001b[0m\u001b[0mconnect\u001b[0m\u001b[1;33m(\u001b[0m\u001b[1;33m)\u001b[0m\u001b[1;33m\u001b[0m\u001b[1;33m\u001b[0m\u001b[0m\n\u001b[0m\u001b[0;32m   1043\u001b[0m \u001b[1;33m\u001b[0m\u001b[0m\n",
      "\u001b[1;32m~\\anaconda3\\lib\\site-packages\\urllib3\\connection.py\u001b[0m in \u001b[0;36mconnect\u001b[1;34m(self)\u001b[0m\n\u001b[0;32m    357\u001b[0m         \u001b[1;31m# Add certificate verification\u001b[0m\u001b[1;33m\u001b[0m\u001b[1;33m\u001b[0m\u001b[0m\n\u001b[1;32m--> 358\u001b[1;33m         \u001b[0mself\u001b[0m\u001b[1;33m.\u001b[0m\u001b[0msock\u001b[0m \u001b[1;33m=\u001b[0m \u001b[0mconn\u001b[0m \u001b[1;33m=\u001b[0m \u001b[0mself\u001b[0m\u001b[1;33m.\u001b[0m\u001b[0m_new_conn\u001b[0m\u001b[1;33m(\u001b[0m\u001b[1;33m)\u001b[0m\u001b[1;33m\u001b[0m\u001b[1;33m\u001b[0m\u001b[0m\n\u001b[0m\u001b[0;32m    359\u001b[0m         \u001b[0mhostname\u001b[0m \u001b[1;33m=\u001b[0m \u001b[0mself\u001b[0m\u001b[1;33m.\u001b[0m\u001b[0mhost\u001b[0m\u001b[1;33m\u001b[0m\u001b[1;33m\u001b[0m\u001b[0m\n",
      "\u001b[1;32m~\\anaconda3\\lib\\site-packages\\urllib3\\connection.py\u001b[0m in \u001b[0;36m_new_conn\u001b[1;34m(self)\u001b[0m\n\u001b[0;32m    185\u001b[0m         \u001b[1;32mexcept\u001b[0m \u001b[0mSocketError\u001b[0m \u001b[1;32mas\u001b[0m \u001b[0me\u001b[0m\u001b[1;33m:\u001b[0m\u001b[1;33m\u001b[0m\u001b[1;33m\u001b[0m\u001b[0m\n\u001b[1;32m--> 186\u001b[1;33m             raise NewConnectionError(\n\u001b[0m\u001b[0;32m    187\u001b[0m                 \u001b[0mself\u001b[0m\u001b[1;33m,\u001b[0m \u001b[1;34m\"Failed to establish a new connection: %s\"\u001b[0m \u001b[1;33m%\u001b[0m \u001b[0me\u001b[0m\u001b[1;33m\u001b[0m\u001b[1;33m\u001b[0m\u001b[0m\n",
      "\u001b[1;31mNewConnectionError\u001b[0m: <urllib3.connection.HTTPSConnection object at 0x000002BF9A8A0730>: Failed to establish a new connection: [WinError 10060] A connection attempt failed because the connected party did not properly respond after a period of time, or established connection failed because connected host has failed to respond",
      "\nDuring handling of the above exception, another exception occurred:\n",
      "\u001b[1;31mMaxRetryError\u001b[0m                             Traceback (most recent call last)",
      "\u001b[1;32m~\\anaconda3\\lib\\site-packages\\requests\\adapters.py\u001b[0m in \u001b[0;36msend\u001b[1;34m(self, request, stream, timeout, verify, cert, proxies)\u001b[0m\n\u001b[0;32m    488\u001b[0m             \u001b[1;32mif\u001b[0m \u001b[1;32mnot\u001b[0m \u001b[0mchunked\u001b[0m\u001b[1;33m:\u001b[0m\u001b[1;33m\u001b[0m\u001b[1;33m\u001b[0m\u001b[0m\n\u001b[1;32m--> 489\u001b[1;33m                 resp = conn.urlopen(\n\u001b[0m\u001b[0;32m    490\u001b[0m                     \u001b[0mmethod\u001b[0m\u001b[1;33m=\u001b[0m\u001b[0mrequest\u001b[0m\u001b[1;33m.\u001b[0m\u001b[0mmethod\u001b[0m\u001b[1;33m,\u001b[0m\u001b[1;33m\u001b[0m\u001b[1;33m\u001b[0m\u001b[0m\n",
      "\u001b[1;32m~\\anaconda3\\lib\\site-packages\\urllib3\\connectionpool.py\u001b[0m in \u001b[0;36murlopen\u001b[1;34m(self, method, url, body, headers, retries, redirect, assert_same_host, timeout, pool_timeout, release_conn, chunked, body_pos, **response_kw)\u001b[0m\n\u001b[0;32m    786\u001b[0m \u001b[1;33m\u001b[0m\u001b[0m\n\u001b[1;32m--> 787\u001b[1;33m             retries = retries.increment(\n\u001b[0m\u001b[0;32m    788\u001b[0m                 \u001b[0mmethod\u001b[0m\u001b[1;33m,\u001b[0m \u001b[0murl\u001b[0m\u001b[1;33m,\u001b[0m \u001b[0merror\u001b[0m\u001b[1;33m=\u001b[0m\u001b[0me\u001b[0m\u001b[1;33m,\u001b[0m \u001b[0m_pool\u001b[0m\u001b[1;33m=\u001b[0m\u001b[0mself\u001b[0m\u001b[1;33m,\u001b[0m \u001b[0m_stacktrace\u001b[0m\u001b[1;33m=\u001b[0m\u001b[0msys\u001b[0m\u001b[1;33m.\u001b[0m\u001b[0mexc_info\u001b[0m\u001b[1;33m(\u001b[0m\u001b[1;33m)\u001b[0m\u001b[1;33m[\u001b[0m\u001b[1;36m2\u001b[0m\u001b[1;33m]\u001b[0m\u001b[1;33m\u001b[0m\u001b[1;33m\u001b[0m\u001b[0m\n",
      "\u001b[1;32m~\\anaconda3\\lib\\site-packages\\urllib3\\util\\retry.py\u001b[0m in \u001b[0;36mincrement\u001b[1;34m(self, method, url, response, error, _pool, _stacktrace)\u001b[0m\n\u001b[0;32m    591\u001b[0m         \u001b[1;32mif\u001b[0m \u001b[0mnew_retry\u001b[0m\u001b[1;33m.\u001b[0m\u001b[0mis_exhausted\u001b[0m\u001b[1;33m(\u001b[0m\u001b[1;33m)\u001b[0m\u001b[1;33m:\u001b[0m\u001b[1;33m\u001b[0m\u001b[1;33m\u001b[0m\u001b[0m\n\u001b[1;32m--> 592\u001b[1;33m             \u001b[1;32mraise\u001b[0m \u001b[0mMaxRetryError\u001b[0m\u001b[1;33m(\u001b[0m\u001b[0m_pool\u001b[0m\u001b[1;33m,\u001b[0m \u001b[0murl\u001b[0m\u001b[1;33m,\u001b[0m \u001b[0merror\u001b[0m \u001b[1;32mor\u001b[0m \u001b[0mResponseError\u001b[0m\u001b[1;33m(\u001b[0m\u001b[0mcause\u001b[0m\u001b[1;33m)\u001b[0m\u001b[1;33m)\u001b[0m\u001b[1;33m\u001b[0m\u001b[1;33m\u001b[0m\u001b[0m\n\u001b[0m\u001b[0;32m    593\u001b[0m \u001b[1;33m\u001b[0m\u001b[0m\n",
      "\u001b[1;31mMaxRetryError\u001b[0m: HTTPSConnectionPool(host='www.ne21.com', port=443): Max retries exceeded with url: /news/show-79555.html (Caused by NewConnectionError('<urllib3.connection.HTTPSConnection object at 0x000002BF9A8A0730>: Failed to establish a new connection: [WinError 10060] A connection attempt failed because the connected party did not properly respond after a period of time, or established connection failed because connected host has failed to respond'))",
      "\nDuring handling of the above exception, another exception occurred:\n",
      "\u001b[1;31mConnectionError\u001b[0m                           Traceback (most recent call last)",
      "\u001b[1;32m~\\AppData\\Local\\Temp\\ipykernel_23536\\2500232452.py\u001b[0m in \u001b[0;36m<module>\u001b[1;34m\u001b[0m\n\u001b[0;32m      1\u001b[0m \u001b[1;31m#url = 'https://zhuanlan.zhihu.com/p/120926031'\u001b[0m\u001b[1;33m\u001b[0m\u001b[1;33m\u001b[0m\u001b[0m\n\u001b[0;32m      2\u001b[0m \u001b[0murl\u001b[0m \u001b[1;33m=\u001b[0m \u001b[1;34m'https://www.ne21.com/news/show-79555.html'\u001b[0m\u001b[1;33m\u001b[0m\u001b[1;33m\u001b[0m\u001b[0m\n\u001b[1;32m----> 3\u001b[1;33m \u001b[0mr\u001b[0m \u001b[1;33m=\u001b[0m \u001b[0mrequests\u001b[0m\u001b[1;33m.\u001b[0m\u001b[0mget\u001b[0m\u001b[1;33m(\u001b[0m\u001b[0murl\u001b[0m\u001b[1;33m)\u001b[0m\u001b[1;33m\u001b[0m\u001b[1;33m\u001b[0m\u001b[0m\n\u001b[0m",
      "\u001b[1;32m~\\anaconda3\\lib\\site-packages\\requests\\api.py\u001b[0m in \u001b[0;36mget\u001b[1;34m(url, params, **kwargs)\u001b[0m\n\u001b[0;32m     71\u001b[0m     \"\"\"\n\u001b[0;32m     72\u001b[0m \u001b[1;33m\u001b[0m\u001b[0m\n\u001b[1;32m---> 73\u001b[1;33m     \u001b[1;32mreturn\u001b[0m \u001b[0mrequest\u001b[0m\u001b[1;33m(\u001b[0m\u001b[1;34m\"get\"\u001b[0m\u001b[1;33m,\u001b[0m \u001b[0murl\u001b[0m\u001b[1;33m,\u001b[0m \u001b[0mparams\u001b[0m\u001b[1;33m=\u001b[0m\u001b[0mparams\u001b[0m\u001b[1;33m,\u001b[0m \u001b[1;33m**\u001b[0m\u001b[0mkwargs\u001b[0m\u001b[1;33m)\u001b[0m\u001b[1;33m\u001b[0m\u001b[1;33m\u001b[0m\u001b[0m\n\u001b[0m\u001b[0;32m     74\u001b[0m \u001b[1;33m\u001b[0m\u001b[0m\n\u001b[0;32m     75\u001b[0m \u001b[1;33m\u001b[0m\u001b[0m\n",
      "\u001b[1;32m~\\anaconda3\\lib\\site-packages\\requests\\api.py\u001b[0m in \u001b[0;36mrequest\u001b[1;34m(method, url, **kwargs)\u001b[0m\n\u001b[0;32m     57\u001b[0m     \u001b[1;31m# cases, and look like a memory leak in others.\u001b[0m\u001b[1;33m\u001b[0m\u001b[1;33m\u001b[0m\u001b[0m\n\u001b[0;32m     58\u001b[0m     \u001b[1;32mwith\u001b[0m \u001b[0msessions\u001b[0m\u001b[1;33m.\u001b[0m\u001b[0mSession\u001b[0m\u001b[1;33m(\u001b[0m\u001b[1;33m)\u001b[0m \u001b[1;32mas\u001b[0m \u001b[0msession\u001b[0m\u001b[1;33m:\u001b[0m\u001b[1;33m\u001b[0m\u001b[1;33m\u001b[0m\u001b[0m\n\u001b[1;32m---> 59\u001b[1;33m         \u001b[1;32mreturn\u001b[0m \u001b[0msession\u001b[0m\u001b[1;33m.\u001b[0m\u001b[0mrequest\u001b[0m\u001b[1;33m(\u001b[0m\u001b[0mmethod\u001b[0m\u001b[1;33m=\u001b[0m\u001b[0mmethod\u001b[0m\u001b[1;33m,\u001b[0m \u001b[0murl\u001b[0m\u001b[1;33m=\u001b[0m\u001b[0murl\u001b[0m\u001b[1;33m,\u001b[0m \u001b[1;33m**\u001b[0m\u001b[0mkwargs\u001b[0m\u001b[1;33m)\u001b[0m\u001b[1;33m\u001b[0m\u001b[1;33m\u001b[0m\u001b[0m\n\u001b[0m\u001b[0;32m     60\u001b[0m \u001b[1;33m\u001b[0m\u001b[0m\n\u001b[0;32m     61\u001b[0m \u001b[1;33m\u001b[0m\u001b[0m\n",
      "\u001b[1;32m~\\anaconda3\\lib\\site-packages\\requests\\sessions.py\u001b[0m in \u001b[0;36mrequest\u001b[1;34m(self, method, url, params, data, headers, cookies, files, auth, timeout, allow_redirects, proxies, hooks, stream, verify, cert, json)\u001b[0m\n\u001b[0;32m    585\u001b[0m         }\n\u001b[0;32m    586\u001b[0m         \u001b[0msend_kwargs\u001b[0m\u001b[1;33m.\u001b[0m\u001b[0mupdate\u001b[0m\u001b[1;33m(\u001b[0m\u001b[0msettings\u001b[0m\u001b[1;33m)\u001b[0m\u001b[1;33m\u001b[0m\u001b[1;33m\u001b[0m\u001b[0m\n\u001b[1;32m--> 587\u001b[1;33m         \u001b[0mresp\u001b[0m \u001b[1;33m=\u001b[0m \u001b[0mself\u001b[0m\u001b[1;33m.\u001b[0m\u001b[0msend\u001b[0m\u001b[1;33m(\u001b[0m\u001b[0mprep\u001b[0m\u001b[1;33m,\u001b[0m \u001b[1;33m**\u001b[0m\u001b[0msend_kwargs\u001b[0m\u001b[1;33m)\u001b[0m\u001b[1;33m\u001b[0m\u001b[1;33m\u001b[0m\u001b[0m\n\u001b[0m\u001b[0;32m    588\u001b[0m \u001b[1;33m\u001b[0m\u001b[0m\n\u001b[0;32m    589\u001b[0m         \u001b[1;32mreturn\u001b[0m \u001b[0mresp\u001b[0m\u001b[1;33m\u001b[0m\u001b[1;33m\u001b[0m\u001b[0m\n",
      "\u001b[1;32m~\\anaconda3\\lib\\site-packages\\requests\\sessions.py\u001b[0m in \u001b[0;36msend\u001b[1;34m(self, request, **kwargs)\u001b[0m\n\u001b[0;32m    699\u001b[0m \u001b[1;33m\u001b[0m\u001b[0m\n\u001b[0;32m    700\u001b[0m         \u001b[1;31m# Send the request\u001b[0m\u001b[1;33m\u001b[0m\u001b[1;33m\u001b[0m\u001b[0m\n\u001b[1;32m--> 701\u001b[1;33m         \u001b[0mr\u001b[0m \u001b[1;33m=\u001b[0m \u001b[0madapter\u001b[0m\u001b[1;33m.\u001b[0m\u001b[0msend\u001b[0m\u001b[1;33m(\u001b[0m\u001b[0mrequest\u001b[0m\u001b[1;33m,\u001b[0m \u001b[1;33m**\u001b[0m\u001b[0mkwargs\u001b[0m\u001b[1;33m)\u001b[0m\u001b[1;33m\u001b[0m\u001b[1;33m\u001b[0m\u001b[0m\n\u001b[0m\u001b[0;32m    702\u001b[0m \u001b[1;33m\u001b[0m\u001b[0m\n\u001b[0;32m    703\u001b[0m         \u001b[1;31m# Total elapsed time of the request (approximately)\u001b[0m\u001b[1;33m\u001b[0m\u001b[1;33m\u001b[0m\u001b[0m\n",
      "\u001b[1;32m~\\anaconda3\\lib\\site-packages\\requests\\adapters.py\u001b[0m in \u001b[0;36msend\u001b[1;34m(self, request, stream, timeout, verify, cert, proxies)\u001b[0m\n\u001b[0;32m    563\u001b[0m                 \u001b[1;32mraise\u001b[0m \u001b[0mSSLError\u001b[0m\u001b[1;33m(\u001b[0m\u001b[0me\u001b[0m\u001b[1;33m,\u001b[0m \u001b[0mrequest\u001b[0m\u001b[1;33m=\u001b[0m\u001b[0mrequest\u001b[0m\u001b[1;33m)\u001b[0m\u001b[1;33m\u001b[0m\u001b[1;33m\u001b[0m\u001b[0m\n\u001b[0;32m    564\u001b[0m \u001b[1;33m\u001b[0m\u001b[0m\n\u001b[1;32m--> 565\u001b[1;33m             \u001b[1;32mraise\u001b[0m \u001b[0mConnectionError\u001b[0m\u001b[1;33m(\u001b[0m\u001b[0me\u001b[0m\u001b[1;33m,\u001b[0m \u001b[0mrequest\u001b[0m\u001b[1;33m=\u001b[0m\u001b[0mrequest\u001b[0m\u001b[1;33m)\u001b[0m\u001b[1;33m\u001b[0m\u001b[1;33m\u001b[0m\u001b[0m\n\u001b[0m\u001b[0;32m    566\u001b[0m \u001b[1;33m\u001b[0m\u001b[0m\n\u001b[0;32m    567\u001b[0m         \u001b[1;32mexcept\u001b[0m \u001b[0mClosedPoolError\u001b[0m \u001b[1;32mas\u001b[0m \u001b[0me\u001b[0m\u001b[1;33m:\u001b[0m\u001b[1;33m\u001b[0m\u001b[1;33m\u001b[0m\u001b[0m\n",
      "\u001b[1;31mConnectionError\u001b[0m: HTTPSConnectionPool(host='www.ne21.com', port=443): Max retries exceeded with url: /news/show-79555.html (Caused by NewConnectionError('<urllib3.connection.HTTPSConnection object at 0x000002BF9A8A0730>: Failed to establish a new connection: [WinError 10060] A connection attempt failed because the connected party did not properly respond after a period of time, or established connection failed because connected host has failed to respond'))"
     ]
    }
   ],
   "source": [
    "#url = 'https://zhuanlan.zhihu.com/p/120926031'\n",
    "url = 'https://www.ne21.com/news/show-79555.html'\n",
    "r = requests.get(url)"
   ]
  },
  {
   "cell_type": "code",
   "execution_count": 20,
   "id": "5e5eef1e",
   "metadata": {},
   "outputs": [],
   "source": [
    "soup = BeautifulSoup(r.text, 'lxml')"
   ]
  },
  {
   "cell_type": "code",
   "execution_count": 21,
   "id": "03147593",
   "metadata": {},
   "outputs": [],
   "source": [
    "all_imgs = soup.find_all('img')"
   ]
  },
  {
   "cell_type": "code",
   "execution_count": 22,
   "id": "0de90dca",
   "metadata": {},
   "outputs": [],
   "source": [
    "image_urls = [i['src'] for i in all_imgs]"
   ]
  },
  {
   "cell_type": "code",
   "execution_count": 23,
   "id": "6ff78062",
   "metadata": {},
   "outputs": [
    {
     "data": {
      "text/plain": [
       "[\"data:image/svg+xml;utf8,<svg xmlns='http://www.w3.org/2000/svg'></svg>\",\n",
       " 'https://picx.zhimg.com/v2-5deaec1dca517a4bec82dc3d6f2e9bfb_l.jpg?source=172ae18b',\n",
       " 'https://pic4.zhimg.com/v2-1f79b82de4386eed8db21fccc507afe7_b.jpg',\n",
       " \"data:image/svg+xml;utf8,<svg xmlns='http://www.w3.org/2000/svg' width='640' height='905'></svg>\",\n",
       " 'https://pic4.zhimg.com/v2-6b5c1df13af0979a0bf08295205e512f_b.jpg',\n",
       " \"data:image/svg+xml;utf8,<svg xmlns='http://www.w3.org/2000/svg' width='640' height='905'></svg>\",\n",
       " 'https://pic1.zhimg.com/v2-77c2d4fa240c80a1cfd026280bfc33e8_b.jpg',\n",
       " \"data:image/svg+xml;utf8,<svg xmlns='http://www.w3.org/2000/svg' width='640' height='905'></svg>\",\n",
       " 'https://pic3.zhimg.com/v2-e9983fb06dcc3f62fe56812f853695da_b.jpg',\n",
       " \"data:image/svg+xml;utf8,<svg xmlns='http://www.w3.org/2000/svg' width='640' height='905'></svg>\"]"
      ]
     },
     "execution_count": 23,
     "metadata": {},
     "output_type": "execute_result"
    }
   ],
   "source": [
    "image_urls"
   ]
  },
  {
   "cell_type": "code",
   "execution_count": 24,
   "id": "6e2f3529",
   "metadata": {},
   "outputs": [
    {
     "name": "stdout",
     "output_type": "stream",
     "text": [
      "(32918, (640, 640))\n"
     ]
    }
   ],
   "source": [
    "import urllib\n",
    "from PIL import ImageFile\n",
    "\n",
    "def getsizes(uri):\n",
    "    # get file size *and* image size (None if not known)\n",
    "    file = urllib.request.urlopen(uri)\n",
    "    size = file.headers.get(\"content-length\")\n",
    "    if size: size = int(size)\n",
    "    p = ImageFile.Parser()\n",
    "    while 1:\n",
    "        data = file.read(1024)\n",
    "        if not data:\n",
    "            break\n",
    "        p.feed(data)\n",
    "        if p.image:\n",
    "            return size, p.image.size\n",
    "            break\n",
    "    file.close()\n",
    "    return size, None\n",
    "\n",
    "print(getsizes(image_urls[1]))"
   ]
  },
  {
   "cell_type": "code",
   "execution_count": 25,
   "id": "f87b6189",
   "metadata": {},
   "outputs": [
    {
     "name": "stdout",
     "output_type": "stream",
     "text": [
      "Does not work:data:image/svg+xml;utf8,<svg xmlns='http://www.w3.org/2000/svg'></svg>\n",
      "(32918, (640, 640))\n",
      "Work: https://picx.zhimg.com/v2-5deaec1dca517a4bec82dc3d6f2e9bfb_l.jpg?source=172ae18b\n",
      "(72787, (640, 905))\n",
      "Work: https://pic4.zhimg.com/v2-1f79b82de4386eed8db21fccc507afe7_b.jpg\n",
      "Does not work:data:image/svg+xml;utf8,<svg xmlns='http://www.w3.org/2000/svg' width='640' height='905'></svg>\n",
      "(107929, (640, 905))\n",
      "Work: https://pic4.zhimg.com/v2-6b5c1df13af0979a0bf08295205e512f_b.jpg\n",
      "Does not work:data:image/svg+xml;utf8,<svg xmlns='http://www.w3.org/2000/svg' width='640' height='905'></svg>\n",
      "(117694, (640, 905))\n",
      "Work: https://pic1.zhimg.com/v2-77c2d4fa240c80a1cfd026280bfc33e8_b.jpg\n",
      "Does not work:data:image/svg+xml;utf8,<svg xmlns='http://www.w3.org/2000/svg' width='640' height='905'></svg>\n",
      "(42402, (640, 905))\n",
      "Work: https://pic3.zhimg.com/v2-e9983fb06dcc3f62fe56812f853695da_b.jpg\n",
      "Does not work:data:image/svg+xml;utf8,<svg xmlns='http://www.w3.org/2000/svg' width='640' height='905'></svg>\n"
     ]
    }
   ],
   "source": [
    "i=0\n",
    "output_path = 'temp/'\n",
    "if not os.path.exists(output_path):\n",
    "    os.makedirs(output_path)\n",
    "for item in all_imgs:\n",
    "    image_url = item['src']\n",
    "    try:\n",
    "        img_data = requests.get(image_url).content\n",
    "    except:\n",
    "        print('Does not work:' + image_url)\n",
    "        continue\n",
    "    with open(os.path.join(output_path,f'image_{i}.jpg'), 'wb') as handler:\n",
    "        print(getsizes(image_url))\n",
    "        print('Work: '+image_url)\n",
    "        handler.write(img_data)\n",
    "    i=i+1"
   ]
  },
  {
   "cell_type": "code",
   "execution_count": null,
   "id": "0a57bcf3",
   "metadata": {},
   "outputs": [],
   "source": [
    "def getdata(url): \n",
    "    r = requests.get(url) \n",
    "    return r.text \n",
    "    \n",
    "htmldata = getdata(\"https://www.geeksforgeeks.org/\") \n",
    "soup = BeautifulSoup(htmldata, 'html.parser') \n",
    "for item in soup.find_all('img'):\n",
    "    print(item['src'])"
   ]
  },
  {
   "cell_type": "code",
   "execution_count": null,
   "id": "a4857059",
   "metadata": {},
   "outputs": [],
   "source": []
  },
  {
   "cell_type": "code",
   "execution_count": 3,
   "id": "a5e94a14",
   "metadata": {},
   "outputs": [],
   "source": [
    "url = 'https://www.ne21.com/news/show-79555.html'\n",
    "r = requests.get(url)"
   ]
  },
  {
   "cell_type": "code",
   "execution_count": 9,
   "id": "f1e6809f",
   "metadata": {},
   "outputs": [],
   "source": [
    "soup = BeautifulSoup(r.text, 'html')\n",
    "all_imgs = soup.find_all('img')"
   ]
  },
  {
   "cell_type": "code",
   "execution_count": 10,
   "id": "355b745a",
   "metadata": {},
   "outputs": [
    {
     "data": {
      "text/plain": [
       "[<img alt=\"微信客服\" src=\"https://www.ne21.com/skin/zxskin/images/wx.png\"/>,\n",
       " <img alt=\"微信公众号\" src=\"https://www.ne21.com/skin/zxskin/images/wxgzh.jpg\"/>,\n",
       " <img alt=\"世纪新能源网\" src=\"https://www.ne21.com/file/upload/201902/22/094249711.jpg\"/>,\n",
       " <img class=\"c_p\" height=\"16\" onclick=\"fontZoom('+', 'article');\" src=\"https://www.ne21.com/skin/zxskin/image/ico-zoomin.png\" title=\"放大字体\" width=\"16\"/>,\n",
       " <img class=\"c_p\" height=\"16\" onclick=\"fontZoom('-', 'article');\" src=\"https://www.ne21.com/skin/zxskin/image/ico-zoomout.png\" title=\"缩小字体\" width=\"16\"/>,\n",
       " <img alt=\"\" class=\"lazy\" original=\"https://www.ne21.com/file/upload/201607/27/100319981.jpg\" src=\"https://www.ne21.com/skin/zxskin/image/lazy.gif\"/>,\n",
       " <img alt=\"\" class=\"lazy\" original=\"https://www.ne21.com/file/upload/201607/27/100321881.jpg\" src=\"https://www.ne21.com/skin/zxskin/image/lazy.gif\"/>,\n",
       " <img alt=\"\" class=\"lazy\" original=\"https://www.ne21.com/file/upload/201607/27/100321631.jpg\" src=\"https://www.ne21.com/skin/zxskin/image/lazy.gif\"/>,\n",
       " <img alt=\"\" class=\"lazy\" original=\"https://www.ne21.com/file/upload/201607/27/100322641.jpg\" src=\"https://www.ne21.com/skin/zxskin/image/lazy.gif\"/>,\n",
       " <img alt=\"\" class=\"lazy\" original=\"https://www.ne21.com/file/upload/201607/27/100323681.jpg\" src=\"https://www.ne21.com/skin/zxskin/image/lazy.gif\"/>,\n",
       " <img align=\"\" src=\"https://www.ne21.com/skin/zxskin/images/ne21_wximg.png\"/>,\n",
       " <img alt=\"\" height=\"48\" src=\"https://www.ne21.com/api/avatar/show.php?size=large&amp;reload=1679011518&amp;username=bsssq\" width=\"48\"/>,\n",
       " <img src=\"https://www.ne21.com/api/avatar/show.php?size=large&amp;reload=1679011518&amp;username=bsssq\" style=\"position:absolute;top:-10px;left:50%;margin-left:-33px;width:66px;border-radius:50px;\"/>,\n",
       " <img alt=\"2023上海光伏大会暨展览会\" src=\"https://www.ne21.com/file/upload/202303/14/161910671.jpg\"/>,\n",
       " <img alt=\"\" src=\"https://www.ne21.com/file/upload/202210/21/100135931.gif\"/>,\n",
       " <img alt=\"\" src=\"https://www.ne21.com/file/upload/202209/06/161632341.jpg\"/>,\n",
       " <img alt=\"探索引入“光伏+储能”新能源技术！浙江杭州发布路灯节能升级改造实施方案\" height=\"93\" src=\"https://www.ne21.com/file/upload/202301/09/1438534012263.png\" width=\"124\"/>,\n",
       " <img alt=\"浙江绍兴：推动光伏在公共建筑中大规模发展\" height=\"93\" src=\"https://www.ne21.com/file/upload/202301/04/1025569712263.png\" width=\"124\"/>,\n",
       " <img alt=\"可再生能源等奖励约4.47亿元！上海下达2022年第五批节能减排专项资金安排计划\" height=\"93\" src=\"https://www.ne21.com/file/upload/202212/08/0922054212263.png\" width=\"124\"/>,\n",
       " <img alt=\"浙江省关于规范光伏用海管理意见社会公众修改意见采纳情况公示\" height=\"93\" src=\"https://www.ne21.com/file/upload/202212/01/1241082112263.jpg\" width=\"124\"/>,\n",
       " <img alt=\"微信客服\" src=\"https://www.ne21.com/skin/zxskin/images/wx.png\"/>,\n",
       " <img alt=\"微信公众号\" src=\"https://www.ne21.com/skin/zxskin/images/wxgzh.jpg\"/>,\n",
       " <img alt=\"公安备案号\" src=\"https://www.ne21.com/skin/zxskin/images/ga.png\"/>]"
      ]
     },
     "execution_count": 10,
     "metadata": {},
     "output_type": "execute_result"
    }
   ],
   "source": [
    "all_imgs"
   ]
  },
  {
   "cell_type": "code",
   "execution_count": 5,
   "id": "04df3027",
   "metadata": {},
   "outputs": [
    {
     "data": {
      "text/plain": [
       "['https://www.ne21.com/skin/zxskin/images/wx.png',\n",
       " 'https://www.ne21.com/skin/zxskin/images/wxgzh.jpg',\n",
       " 'https://www.ne21.com/file/upload/201902/22/094249711.jpg',\n",
       " 'https://www.ne21.com/skin/zxskin/image/ico-zoomin.png',\n",
       " 'https://www.ne21.com/skin/zxskin/image/ico-zoomout.png',\n",
       " 'https://www.ne21.com/skin/zxskin/image/lazy.gif',\n",
       " 'https://www.ne21.com/skin/zxskin/image/lazy.gif',\n",
       " 'https://www.ne21.com/skin/zxskin/image/lazy.gif',\n",
       " 'https://www.ne21.com/skin/zxskin/image/lazy.gif',\n",
       " 'https://www.ne21.com/skin/zxskin/image/lazy.gif',\n",
       " 'https://www.ne21.com/skin/zxskin/images/ne21_wximg.png',\n",
       " 'https://www.ne21.com/api/avatar/show.php?size=large&reload=1679011518&username=bsssq',\n",
       " 'https://www.ne21.com/api/avatar/show.php?size=large&reload=1679011518&username=bsssq',\n",
       " 'https://www.ne21.com/file/upload/202303/14/161910671.jpg',\n",
       " 'https://www.ne21.com/file/upload/202210/21/100135931.gif',\n",
       " 'https://www.ne21.com/file/upload/202209/06/161632341.jpg',\n",
       " 'https://www.ne21.com/file/upload/202301/09/1438534012263.png',\n",
       " 'https://www.ne21.com/file/upload/202301/04/1025569712263.png',\n",
       " 'https://www.ne21.com/file/upload/202212/08/0922054212263.png',\n",
       " 'https://www.ne21.com/file/upload/202212/01/1241082112263.jpg',\n",
       " 'https://www.ne21.com/skin/zxskin/images/wx.png',\n",
       " 'https://www.ne21.com/skin/zxskin/images/wxgzh.jpg',\n",
       " 'https://www.ne21.com/skin/zxskin/images/ga.png']"
      ]
     },
     "execution_count": 5,
     "metadata": {},
     "output_type": "execute_result"
    }
   ],
   "source": [
    "image_urls = [i['src'] for i in all_imgs]\n",
    "image_urls"
   ]
  },
  {
   "cell_type": "code",
   "execution_count": 12,
   "id": "5a15c29f",
   "metadata": {},
   "outputs": [
    {
     "name": "stdout",
     "output_type": "stream",
     "text": [
      "https://www.ne21.com/skin/zxskin/images/wx.png\n",
      "https://www.ne21.com/skin/zxskin/images/wxgzh.jpg\n",
      "https://www.ne21.com/file/upload/201902/22/094249711.jpg\n",
      "https://www.ne21.com/skin/zxskin/image/ico-zoomin.png\n",
      "https://www.ne21.com/skin/zxskin/image/ico-zoomout.png\n",
      "https://www.ne21.com/file/upload/201607/27/100319981.jpg\n",
      "https://www.ne21.com/file/upload/201607/27/100321881.jpg\n",
      "https://www.ne21.com/file/upload/201607/27/100321631.jpg\n",
      "https://www.ne21.com/file/upload/201607/27/100322641.jpg\n",
      "https://www.ne21.com/file/upload/201607/27/100323681.jpg\n",
      "https://www.ne21.com/skin/zxskin/images/ne21_wximg.png\n",
      "https://www.ne21.com/api/avatar/show.php?size=large&reload=1679011518&username=bsssq\n",
      "https://www.ne21.com/api/avatar/show.php?size=large&reload=1679011518&username=bsssq\n",
      "https://www.ne21.com/file/upload/202303/14/161910671.jpg\n",
      "https://www.ne21.com/file/upload/202210/21/100135931.gif\n",
      "https://www.ne21.com/file/upload/202209/06/161632341.jpg\n",
      "https://www.ne21.com/file/upload/202301/09/1438534012263.png\n",
      "https://www.ne21.com/file/upload/202301/04/1025569712263.png\n",
      "https://www.ne21.com/file/upload/202212/08/0922054212263.png\n",
      "https://www.ne21.com/file/upload/202212/01/1241082112263.jpg\n",
      "https://www.ne21.com/skin/zxskin/images/wx.png\n",
      "https://www.ne21.com/skin/zxskin/images/wxgzh.jpg\n",
      "https://www.ne21.com/skin/zxskin/images/ga.png\n"
     ]
    }
   ],
   "source": [
    "for i in all_imgs:\n",
    "    try:\n",
    "        print(i['original'])\n",
    "    except:\n",
    "        print(i['src'])"
   ]
  },
  {
   "cell_type": "code",
   "execution_count": null,
   "id": "f832686d",
   "metadata": {},
   "outputs": [],
   "source": []
  }
 ],
 "metadata": {
  "kernelspec": {
   "display_name": "Python 3 (ipykernel)",
   "language": "python",
   "name": "python3"
  },
  "language_info": {
   "codemirror_mode": {
    "name": "ipython",
    "version": 3
   },
   "file_extension": ".py",
   "mimetype": "text/x-python",
   "name": "python",
   "nbconvert_exporter": "python",
   "pygments_lexer": "ipython3",
   "version": "3.9.13"
  }
 },
 "nbformat": 4,
 "nbformat_minor": 5
}
