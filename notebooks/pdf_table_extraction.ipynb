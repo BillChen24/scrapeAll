{
 "cells": [
  {
   "cell_type": "code",
   "execution_count": 2,
   "id": "804b49d3",
   "metadata": {},
   "outputs": [],
   "source": [
    "import pandas as pd\n",
    "import numpy as np\n",
    "import requests\n",
    "import os\n",
    "import time\n",
    "\n",
    "from aip import AipOcr"
   ]
  },
  {
   "cell_type": "code",
   "execution_count": 3,
   "id": "40720111",
   "metadata": {},
   "outputs": [],
   "source": [
    "import os\n",
    "os.chdir(\"C:\\\\Users\\\\Bill Chen\\\\Desktop\\\\UCSD Course\\\\MD Lab\\\\scrapeAll\")"
   ]
  },
  {
   "cell_type": "code",
   "execution_count": 4,
   "id": "9b62f6be",
   "metadata": {},
   "outputs": [],
   "source": [
    "from src.getClean.image_to_table import *"
   ]
  },
  {
   "cell_type": "code",
   "execution_count": 5,
   "id": "f15ce4a1",
   "metadata": {},
   "outputs": [
    {
     "ename": "FileNotFoundError",
     "evalue": "[Errno 2] No such file or directory: 'data/Test/raw/Guangdong_firm_month/temp/2020.05_supplier.xls'",
     "output_type": "error",
     "traceback": [
      "\u001b[1;31m---------------------------------------------------------------------------\u001b[0m",
      "\u001b[1;31mFileNotFoundError\u001b[0m                         Traceback (most recent call last)",
      "\u001b[1;32m~\\AppData\\Local\\Temp\\ipykernel_8324\\3986304881.py\u001b[0m in \u001b[0;36m<module>\u001b[1;34m\u001b[0m\n\u001b[0;32m      1\u001b[0m \u001b[0mimage_path\u001b[0m \u001b[1;33m=\u001b[0m \u001b[1;34m'data/Test/raw/Guangdong_firm_month/'\u001b[0m\u001b[1;33m\u001b[0m\u001b[1;33m\u001b[0m\u001b[0m\n\u001b[1;32m----> 2\u001b[1;33m \u001b[0mconvert_all_images\u001b[0m\u001b[1;33m(\u001b[0m\u001b[0mimage_path\u001b[0m\u001b[1;33m)\u001b[0m\u001b[1;33m\u001b[0m\u001b[1;33m\u001b[0m\u001b[0m\n\u001b[0m",
      "\u001b[1;32m~\\Desktop\\UCSD Course\\MD Lab\\scrapeAll\\src\\getClean\\image_to_table.py\u001b[0m in \u001b[0;36mconvert_all_images\u001b[1;34m(inputpath, outputpath)\u001b[0m\n\u001b[0;32m     49\u001b[0m         \u001b[1;32mif\u001b[0m \u001b[0mfilename\u001b[0m\u001b[1;33m.\u001b[0m\u001b[0mendswith\u001b[0m\u001b[1;33m(\u001b[0m\u001b[1;34m\".jpg\"\u001b[0m\u001b[1;33m)\u001b[0m \u001b[1;32mor\u001b[0m \u001b[0mfilename\u001b[0m\u001b[1;33m.\u001b[0m\u001b[0mendswith\u001b[0m\u001b[1;33m(\u001b[0m\u001b[1;34m\".png\"\u001b[0m\u001b[1;33m)\u001b[0m\u001b[1;33m:\u001b[0m\u001b[1;33m\u001b[0m\u001b[1;33m\u001b[0m\u001b[0m\n\u001b[0;32m     50\u001b[0m             \u001b[0mcompleteName\u001b[0m \u001b[1;33m=\u001b[0m \u001b[0mos\u001b[0m\u001b[1;33m.\u001b[0m\u001b[0mpath\u001b[0m\u001b[1;33m.\u001b[0m\u001b[0mjoin\u001b[0m\u001b[1;33m(\u001b[0m\u001b[0minputpath\u001b[0m\u001b[1;33m,\u001b[0m \u001b[0mfilename\u001b[0m\u001b[1;33m)\u001b[0m\u001b[1;33m\u001b[0m\u001b[1;33m\u001b[0m\u001b[0m\n\u001b[1;32m---> 51\u001b[1;33m             \u001b[0mread_image_to_xls\u001b[0m\u001b[1;33m(\u001b[0m\u001b[0mcompleteName\u001b[0m\u001b[1;33m,\u001b[0m \u001b[0mfilename\u001b[0m\u001b[1;33m[\u001b[0m\u001b[1;33m:\u001b[0m\u001b[1;33m-\u001b[0m\u001b[1;36m4\u001b[0m\u001b[1;33m]\u001b[0m\u001b[1;33m+\u001b[0m\u001b[1;34m'.xls'\u001b[0m\u001b[1;33m,\u001b[0m \u001b[0moutputpath\u001b[0m\u001b[1;33m)\u001b[0m\u001b[1;33m\u001b[0m\u001b[1;33m\u001b[0m\u001b[0m\n\u001b[0m\u001b[0;32m     52\u001b[0m             \u001b[0mtime\u001b[0m\u001b[1;33m.\u001b[0m\u001b[0msleep\u001b[0m\u001b[1;33m(\u001b[0m\u001b[1;36m3\u001b[0m\u001b[1;33m)\u001b[0m\u001b[1;33m\u001b[0m\u001b[1;33m\u001b[0m\u001b[0m\n\u001b[0;32m     53\u001b[0m     \u001b[0mprint\u001b[0m\u001b[1;33m(\u001b[0m\u001b[1;34m'Temporary tables successfully saved at '\u001b[0m \u001b[1;33m+\u001b[0m \u001b[0moutputpath\u001b[0m\u001b[1;33m)\u001b[0m\u001b[1;33m\u001b[0m\u001b[1;33m\u001b[0m\u001b[0m\n",
      "\u001b[1;32m~\\Desktop\\UCSD Course\\MD Lab\\scrapeAll\\src\\getClean\\image_to_table.py\u001b[0m in \u001b[0;36mread_image_to_xls\u001b[1;34m(filepath, newfile_name, outputpath)\u001b[0m\n\u001b[0;32m     40\u001b[0m     \u001b[0mexcel_file\u001b[0m \u001b[1;33m=\u001b[0m \u001b[0mrequests\u001b[0m\u001b[1;33m.\u001b[0m\u001b[0mget\u001b[0m\u001b[1;33m(\u001b[0m\u001b[0mresult_url\u001b[0m\u001b[1;33m,\u001b[0m \u001b[0mallow_redirects\u001b[0m\u001b[1;33m=\u001b[0m\u001b[1;32mTrue\u001b[0m\u001b[1;33m)\u001b[0m\u001b[1;33m\u001b[0m\u001b[1;33m\u001b[0m\u001b[0m\n\u001b[0;32m     41\u001b[0m \u001b[1;33m\u001b[0m\u001b[0m\n\u001b[1;32m---> 42\u001b[1;33m     \u001b[0mopen\u001b[0m\u001b[1;33m(\u001b[0m\u001b[0mos\u001b[0m\u001b[1;33m.\u001b[0m\u001b[0mpath\u001b[0m\u001b[1;33m.\u001b[0m\u001b[0mjoin\u001b[0m\u001b[1;33m(\u001b[0m\u001b[0moutputpath\u001b[0m\u001b[1;33m,\u001b[0m \u001b[0mnewfile_name\u001b[0m\u001b[1;33m)\u001b[0m \u001b[1;33m,\u001b[0m \u001b[1;34m'wb'\u001b[0m\u001b[1;33m)\u001b[0m\u001b[1;33m.\u001b[0m\u001b[0mwrite\u001b[0m\u001b[1;33m(\u001b[0m\u001b[0mexcel_file\u001b[0m\u001b[1;33m.\u001b[0m\u001b[0mcontent\u001b[0m\u001b[1;33m)\u001b[0m\u001b[1;33m\u001b[0m\u001b[1;33m\u001b[0m\u001b[0m\n\u001b[0m\u001b[0;32m     43\u001b[0m \u001b[1;33m\u001b[0m\u001b[0m\n\u001b[0;32m     44\u001b[0m \u001b[1;33m\u001b[0m\u001b[0m\n",
      "\u001b[1;31mFileNotFoundError\u001b[0m: [Errno 2] No such file or directory: 'data/Test/raw/Guangdong_firm_month/temp/2020.05_supplier.xls'"
     ]
    }
   ],
   "source": [
    "image_path = 'data/Test/raw/Guangdong_firm_month/'\n",
    "convert_all_images(image_path)"
   ]
  },
  {
   "cell_type": "code",
   "execution_count": 5,
   "id": "e28c6db8",
   "metadata": {},
   "outputs": [],
   "source": [
    "image_path = 'data/Test/raw/Guangdong_prov_month/易电在线/temp/'\n",
    "convert_all_images(image_path, image_path)"
   ]
  },
  {
   "cell_type": "code",
   "execution_count": null,
   "id": "b6358457",
   "metadata": {},
   "outputs": [],
   "source": [
    "APP_ID = '30505345'\n",
    "API_KEY = 'PlF6csVBFlGKyZzxMd1AzVCP'\n",
    "SECRET_KEY = 'MIwiRQRpwQhKU01KtGqo4yl0z3VvofuS'"
   ]
  },
  {
   "cell_type": "code",
   "execution_count": null,
   "id": "9d9c2707",
   "metadata": {},
   "outputs": [],
   "source": [
    "client = AipOcr(APP_ID, API_KEY, SECRET_KEY)"
   ]
  },
  {
   "cell_type": "code",
   "execution_count": null,
   "id": "cc2ec968",
   "metadata": {},
   "outputs": [],
   "source": [
    "image_path = 'data/Test/raw/Guangdong_firm_month/2020.05_supplier.png'"
   ]
  },
  {
   "cell_type": "code",
   "execution_count": null,
   "id": "4446c7bc",
   "metadata": {},
   "outputs": [],
   "source": [
    "with open(image_path, 'rb') as fp:\n",
    "    file_content = fp.read()"
   ]
  },
  {
   "cell_type": "code",
   "execution_count": null,
   "id": "be34d823",
   "metadata": {},
   "outputs": [],
   "source": [
    "result = client.tableRecognition(file_content)\n",
    "result_url = result['result']['result_data']\n",
    "excel_file = requests.get(result_url, allow_redirects=True)"
   ]
  },
  {
   "cell_type": "code",
   "execution_count": null,
   "id": "f7f0793b",
   "metadata": {},
   "outputs": [],
   "source": [
    "excel_file.content"
   ]
  },
  {
   "cell_type": "code",
   "execution_count": null,
   "id": "45c22c53",
   "metadata": {},
   "outputs": [],
   "source": [
    "output = str(excel_file.content, 'ISO-8859-1')"
   ]
  }
 ],
 "metadata": {
  "kernelspec": {
   "display_name": "Python 3 (ipykernel)",
   "language": "python",
   "name": "python3"
  },
  "language_info": {
   "codemirror_mode": {
    "name": "ipython",
    "version": 3
   },
   "file_extension": ".py",
   "mimetype": "text/x-python",
   "name": "python",
   "nbconvert_exporter": "python",
   "pygments_lexer": "ipython3",
   "version": "3.9.13"
  }
 },
 "nbformat": 4,
 "nbformat_minor": 5
}
