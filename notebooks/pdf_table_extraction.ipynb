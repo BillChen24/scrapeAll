{
 "cells": [
  {
   "cell_type": "code",
   "execution_count": 1,
   "id": "804b49d3",
   "metadata": {},
   "outputs": [],
   "source": [
    "import pandas as pd\n",
    "import numpy as np\n",
    "import requests\n",
    "import os\n",
    "import time\n",
    "\n",
    "from aip import AipOcr"
   ]
  },
  {
   "cell_type": "code",
   "execution_count": 2,
   "id": "40720111",
   "metadata": {},
   "outputs": [],
   "source": [
    "import os\n",
    "os.chdir(\"C:\\\\Users\\\\Bill Chen\\\\Desktop\\\\UCSD Course\\\\MD Lab\\\\scrapeAll\")"
   ]
  },
  {
   "cell_type": "code",
   "execution_count": 3,
   "id": "9b62f6be",
   "metadata": {},
   "outputs": [],
   "source": [
    "from src.getClean.image_to_table import *"
   ]
  },
  {
   "cell_type": "code",
   "execution_count": 6,
   "id": "b6358457",
   "metadata": {},
   "outputs": [],
   "source": [
    "APP_ID = '30505345'\n",
    "API_KEY = 'PlF6csVBFlGKyZzxMd1AzVCP'\n",
    "SECRET_KEY = 'MIwiRQRpwQhKU01KtGqo4yl0z3VvofuS'"
   ]
  },
  {
   "cell_type": "code",
   "execution_count": 14,
   "id": "f15ce4a1",
   "metadata": {},
   "outputs": [
    {
     "name": "stdout",
     "output_type": "stream",
     "text": [
      "Temporary tables successfully saved at test/url_pmos/temp/山东电力现货市场2023年5月结算试运行工作日报(5月14日)/\n"
     ]
    }
   ],
   "source": [
    "image_path = 'test/url_pmos/temp/山东电力现货市场2023年5月结算试运行工作日报(5月14日)/'\n",
    "convert_all_images(image_path, image_path)"
   ]
  },
  {
   "cell_type": "code",
   "execution_count": 5,
   "id": "e28c6db8",
   "metadata": {},
   "outputs": [],
   "source": [
    "image_path = 'data/Test/raw/Guangdong_prov_month/易电在线/temp/'\n",
    "convert_all_images(image_path, image_path)"
   ]
  },
  {
   "cell_type": "code",
   "execution_count": null,
   "id": "9d9c2707",
   "metadata": {},
   "outputs": [],
   "source": [
    "client = AipOcr(APP_ID, API_KEY, SECRET_KEY)"
   ]
  },
  {
   "cell_type": "code",
   "execution_count": null,
   "id": "cc2ec968",
   "metadata": {},
   "outputs": [],
   "source": [
    "image_path = 'data/Test/raw/Guangdong_firm_month/2020.05_supplier.png'"
   ]
  },
  {
   "cell_type": "code",
   "execution_count": null,
   "id": "4446c7bc",
   "metadata": {},
   "outputs": [],
   "source": [
    "with open(image_path, 'rb') as fp:\n",
    "    file_content = fp.read()"
   ]
  },
  {
   "cell_type": "code",
   "execution_count": null,
   "id": "be34d823",
   "metadata": {},
   "outputs": [],
   "source": [
    "result = client.tableRecognition(file_content)\n",
    "result_url = result['result']['result_data']\n",
    "excel_file = requests.get(result_url, allow_redirects=True)"
   ]
  },
  {
   "cell_type": "code",
   "execution_count": null,
   "id": "f7f0793b",
   "metadata": {},
   "outputs": [],
   "source": [
    "excel_file.content"
   ]
  },
  {
   "cell_type": "code",
   "execution_count": null,
   "id": "45c22c53",
   "metadata": {},
   "outputs": [],
   "source": [
    "output = str(excel_file.content, 'ISO-8859-1')"
   ]
  }
 ],
 "metadata": {
  "kernelspec": {
   "display_name": "Python 3 (ipykernel)",
   "language": "python",
   "name": "python3"
  },
  "language_info": {
   "codemirror_mode": {
    "name": "ipython",
    "version": 3
   },
   "file_extension": ".py",
   "mimetype": "text/x-python",
   "name": "python",
   "nbconvert_exporter": "python",
   "pygments_lexer": "ipython3",
   "version": "3.9.13"
  }
 },
 "nbformat": 4,
 "nbformat_minor": 5
}
