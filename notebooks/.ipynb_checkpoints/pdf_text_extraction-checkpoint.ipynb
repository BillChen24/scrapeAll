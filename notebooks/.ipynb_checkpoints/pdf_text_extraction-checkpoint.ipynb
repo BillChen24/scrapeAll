{
 "cells": [
  {
   "cell_type": "code",
   "execution_count": 1,
   "id": "c2aa70cc",
   "metadata": {},
   "outputs": [],
   "source": [
    "import sys\n",
    "import os\n",
    "os.chdir(\"C:\\\\Users\\\\Bill Chen\\\\Desktop\\\\UCSD Course\\\\MD Lab\\\\scrapeAll\")"
   ]
  },
  {
   "cell_type": "code",
   "execution_count": 2,
   "id": "292119ac",
   "metadata": {},
   "outputs": [],
   "source": [
    "from pdf2image import convert_from_path\n",
    "from PIL import Image\n",
    "import pytesseract"
   ]
  },
  {
   "cell_type": "code",
   "execution_count": 12,
   "id": "43267b20",
   "metadata": {},
   "outputs": [
    {
     "data": {
      "text/plain": [
       "['all.pdf']"
      ]
     },
     "execution_count": 12,
     "metadata": {},
     "output_type": "execute_result"
    }
   ],
   "source": [
    "test_pdf = os.listdir(\"data/Test/raw/PMOS\")\n",
    "test_pdf"
   ]
  },
  {
   "cell_type": "code",
   "execution_count": 19,
   "id": "1e6a99a0",
   "metadata": {},
   "outputs": [
    {
     "data": {
      "text/plain": [
       "['关于发布山东省2019年12月份电力直接交易（集中竞价）结果的公告.pdf.pdf',\n",
       " '山东省2019年12月份电力直接交易（集中竞价）结果.pdf.pdf']"
      ]
     },
     "execution_count": 19,
     "metadata": {},
     "output_type": "execute_result"
    }
   ],
   "source": [
    "os.listdir('data/Test/raw/Shandong_firm_month/关于发布山东省2019年12月份电力直接交易（集中竞价）结果的公告/')"
   ]
  },
  {
   "cell_type": "code",
   "execution_count": null,
   "id": "482c7438",
   "metadata": {},
   "outputs": [],
   "source": []
  },
  {
   "cell_type": "code",
   "execution_count": 14,
   "id": "ff379787",
   "metadata": {},
   "outputs": [
    {
     "data": {
      "text/plain": [
       "[<PIL.PpmImagePlugin.PpmImageFile image mode=RGB size=1700x2200>,\n",
       " <PIL.PpmImagePlugin.PpmImageFile image mode=RGB size=1700x2200>,\n",
       " <PIL.PpmImagePlugin.PpmImageFile image mode=RGB size=1700x2200>,\n",
       " <PIL.PpmImagePlugin.PpmImageFile image mode=RGB size=1700x2200>,\n",
       " <PIL.PpmImagePlugin.PpmImageFile image mode=RGB size=1700x2200>,\n",
       " <PIL.PpmImagePlugin.PpmImageFile image mode=RGB size=1700x2200>,\n",
       " <PIL.PpmImagePlugin.PpmImageFile image mode=RGB size=1700x2200>,\n",
       " <PIL.PpmImagePlugin.PpmImageFile image mode=RGB size=1700x2200>,\n",
       " <PIL.PpmImagePlugin.PpmImageFile image mode=RGB size=1700x2200>,\n",
       " <PIL.PpmImagePlugin.PpmImageFile image mode=RGB size=1700x2200>,\n",
       " <PIL.PpmImagePlugin.PpmImageFile image mode=RGB size=1700x2200>,\n",
       " <PIL.PpmImagePlugin.PpmImageFile image mode=RGB size=1700x2200>,\n",
       " <PIL.PpmImagePlugin.PpmImageFile image mode=RGB size=1700x2200>,\n",
       " <PIL.PpmImagePlugin.PpmImageFile image mode=RGB size=1700x2200>,\n",
       " <PIL.PpmImagePlugin.PpmImageFile image mode=RGB size=1700x2200>]"
      ]
     },
     "execution_count": 14,
     "metadata": {},
     "output_type": "execute_result"
    }
   ],
   "source": [
    "images = convert_from_path(\"data/Test/raw/PMOS/all.pdf\", poppler_path=r\"C:\\Program Files\\poppler-0.68.0\\bin\")"
   ]
  },
  {
   "cell_type": "code",
   "execution_count": null,
   "id": "1b509aa0",
   "metadata": {},
   "outputs": [],
   "source": [
    "import pandas as pd\n",
    "import json\n",
    "from src.getClean.image.pdf_chinese_text_extraction import *\n",
    "from src.getClean.image.table_OCR import *"
   ]
  },
  {
   "cell_type": "code",
   "execution_count": null,
   "id": "ce749cb5",
   "metadata": {},
   "outputs": [],
   "source": []
  }
 ],
 "metadata": {
  "kernelspec": {
   "display_name": "Python 3 (ipykernel)",
   "language": "python",
   "name": "python3"
  },
  "language_info": {
   "codemirror_mode": {
    "name": "ipython",
    "version": 3
   },
   "file_extension": ".py",
   "mimetype": "text/x-python",
   "name": "python",
   "nbconvert_exporter": "python",
   "pygments_lexer": "ipython3",
   "version": "3.9.13"
  }
 },
 "nbformat": 4,
 "nbformat_minor": 5
}
