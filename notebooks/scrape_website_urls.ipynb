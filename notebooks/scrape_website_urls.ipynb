{
 "cells": [
  {
   "cell_type": "code",
   "execution_count": 1,
   "id": "d86b5d5f",
   "metadata": {},
   "outputs": [],
   "source": [
    "import requests\n",
    "import json\n",
    "from bs4 import BeautifulSoup\n",
    "import selenium\n",
    "from selenium import webdriver\n",
    "from selenium.webdriver.common.by import By\n",
    "from selenium.webdriver.support.ui import WebDriverWait\n",
    "from selenium.webdriver.support import expected_conditions as EC\n",
    "from selenium.common.exceptions import WebDriverException\n",
    "import time \n",
    "import os\n",
    "import json\n",
    "import base64"
   ]
  },
  {
   "cell_type": "code",
   "execution_count": 2,
   "id": "1db2916a",
   "metadata": {},
   "outputs": [],
   "source": [
    "url = 'https://www.cctd.com.cn/list-46-1.html'\n",
    "div_class = 'new_list'\n",
    "next_page_xpath = '//*[@id=\"pages\"]/a[5]'\n",
    "page_num = 2\n",
    "keyword = \"电煤价格\""
   ]
  },
  {
   "cell_type": "code",
   "execution_count": 42,
   "id": "5a261880",
   "metadata": {},
   "outputs": [],
   "source": [
    "def scrape_urls(url=None, div_class=None, keyword=None, urls_dict=None, page_num=1, next_page_xpath=None):\n",
    "    if urls_dict is None:\n",
    "        urls_dict = {}\n",
    "    driver = webdriver.Chrome()\n",
    "    try:\n",
    "        driver.get(url)\n",
    "        wait = WebDriverWait(driver, 10)\n",
    "        \n",
    "        for _ in range(page_num):\n",
    "            if next_page_xpath is None and _ > 0:\n",
    "                print(\"Warning: No next page XPath provided. Only scraping the first page.\")\n",
    "                break\n",
    "            \n",
    "            soup = BeautifulSoup(driver.page_source, 'html.parser')\n",
    "            if div_class is not None:\n",
    "                url_div = soup.find_all('div', class_=div_class)\n",
    "            else:\n",
    "                url_div = soup.find_all('table')\n",
    "            \n",
    "            for div in url_div:\n",
    "                for link in div.find_all('a'):\n",
    "                    if keyword is None or (keyword is not None and keyword in link.text):\n",
    "                        try:\n",
    "                            urls_dict.update({link.text: link['href']})\n",
    "                        except:\n",
    "                            continue\n",
    "        \n",
    "            if next_page_xpath is not None:\n",
    "                try:\n",
    "                    next_page_element = wait.until(EC.element_to_be_clickable((By.XPATH, next_page_xpath)))\n",
    "                    next_page_element.click()\n",
    "                except WebDriverException:\n",
    "                    print(\"Warning: Next page button not clickable or not found. Stopping the scraping.\")\n",
    "                    break\n",
    "        \n",
    "    finally:\n",
    "        driver.quit()\n",
    "\n",
    "    return urls_dict\n",
    "\n",
    "def store_urls_as_json(urls_dict, output_file):\n",
    "    # Check if the output path is a full path\n",
    "    if not os.path.isabs(output_file):\n",
    "        # If it's not a full path, join it with the current working directory\n",
    "        output_file = os.path.abspath(os.path.join(os.getcwd(), output_file))\n",
    "\n",
    "    # Check if the output_file is a directory\n",
    "    if os.path.isdir(output_file):\n",
    "        # If it's a directory, create the full file path\n",
    "        output_file = os.path.join(output_file, \"urls_info.json\")\n",
    "\n",
    "    # Create the directory if it doesn't exist\n",
    "    output_dir = os.path.dirname(output_file)\n",
    "    os.makedirs(output_dir, exist_ok=True)\n",
    "\n",
    "    try:\n",
    "        with open(output_file, 'w', encoding='utf-8') as file:\n",
    "            json.dump(urls_dict, file, ensure_ascii = False, indent=4)\n",
    "        print(f\"URLs stored as JSON in file: {output_file}\")\n",
    "    except IOError as e:\n",
    "        print(f\"Error occurred while writing to file: {output_file}\")\n",
    "        print(f\"Error details: {str(e)}\")\n",
    "    except Exception as e:\n",
    "        print(\"An error occurred during the file operation.\")\n",
    "        print(f\"Error details: {str(e)}\")"
   ]
  },
  {
   "cell_type": "code",
   "execution_count": 18,
   "id": "9c51eb39",
   "metadata": {},
   "outputs": [],
   "source": [
    "d1 = scrape_urls(url=url, div_class=div_class, keyword='指数', page_num=3, next_page_xpath=next_page_xpath)"
   ]
  },
  {
   "cell_type": "code",
   "execution_count": 44,
   "id": "6805d52f",
   "metadata": {},
   "outputs": [
    {
     "data": {
      "text/plain": [
       "54"
      ]
     },
     "execution_count": 44,
     "metadata": {},
     "output_type": "execute_result"
    }
   ],
   "source": [
    "len(d1)"
   ]
  },
  {
   "cell_type": "code",
   "execution_count": 39,
   "id": "87befdd2",
   "metadata": {},
   "outputs": [
    {
     "data": {
      "text/plain": [
       "'C:\\\\Users\\\\Bill Chen\\\\Desktop\\\\UCSD Course\\\\MD Lab\\\\scrapeAll\\\\data\\\\raw\\\\煤炭'"
      ]
     },
     "execution_count": 39,
     "metadata": {},
     "output_type": "execute_result"
    }
   ],
   "source": [
    "os.path.realpath(os.path.join(os.getcwd(), '../data/raw/煤炭/'))"
   ]
  },
  {
   "cell_type": "code",
   "execution_count": 43,
   "id": "e4033a09",
   "metadata": {},
   "outputs": [
    {
     "name": "stdout",
     "output_type": "stream",
     "text": [
      "URLs stored as JSON in file: C:\\Users\\Bill Chen\\Desktop\\UCSD Course\\MD Lab\\scrapeAll\\data\\raw\\煤炭\\urls_info.json\n"
     ]
    }
   ],
   "source": [
    "store_urls_as_json(d1, \"../data/raw/煤炭\")"
   ]
  },
  {
   "cell_type": "code",
   "execution_count": null,
   "id": "6bf72d1e",
   "metadata": {},
   "outputs": [],
   "source": [
    "def scrape_urls(url = None, div_class = None, keyword = None, urls_dict = {}, page_num = 1):\n",
    "    driver = webdriver.Chrome()\n",
    "    driver.get(url)\n",
    "    for _ in range(page_num):\n",
    "        soup = BeautifulSoup(driver.page_source, 'html.parser')\n",
    "        url_div = soup.find_all('div', class_ = div_class)\n",
    "        for div in url_div:\n",
    "            for link in div.find_all('a'):\n",
    "            if keyword in link.text:\n",
    "                try:\n",
    "                    urls_dict.update({link.text: link['href']})\n",
    "                except:\n",
    "                    continue\n",
    "    if driver.find_element(By.XPATH, next_page_xpath).is_enabled():\n",
    "        driver.find_element(By.XPATH, next_page_xpath).click()\n",
    "    return urls_dict\n",
    "\n",
    "def store_urls_as_json(urls_dict, output_file):\n",
    "    with open(output_file, 'w') as file:\n",
    "        json.dump(urls_dict, file, indent=4)\n",
    "\n",
    "# Example usage\n",
    "url = 'https://example.com'\n",
    "div_class = 'target-div-class'\n",
    "keyword = 'example'\n",
    "page_number = 3  # Scrape URLs from the first 3 pages\n",
    "output_file = 'urls.json'\n",
    "\n",
    "urls = scrape_urls(url, div_class, keyword, page_number)\n",
    "store_urls_as_json(urls, output_file)\n"
   ]
  },
  {
   "cell_type": "code",
   "execution_count": null,
   "id": "fe2236ee",
   "metadata": {},
   "outputs": [],
   "source": [
    "response = requests.get(url)\n",
    "soup = BeautifulSoup(response.content, 'html.parser')"
   ]
  },
  {
   "cell_type": "code",
   "execution_count": null,
   "id": "bb6a49f9",
   "metadata": {},
   "outputs": [],
   "source": [
    "url_div = soup.find('div', class_ = div_class)\n",
    "for link in url_div.find_all('a'):\n",
    "    print(link)"
   ]
  },
  {
   "cell_type": "code",
   "execution_count": null,
   "id": "af8a53b5",
   "metadata": {},
   "outputs": [],
   "source": [
    "def scrape_urls(url, div_class, keyword=None, page_number=None):\n",
    "    urls = []\n",
    "    current_page = 1\n",
    "\n",
    "    while page_number is None or current_page <= page_number:\n",
    "        response = requests.get(f'{url}?page={current_page}')\n",
    "        soup = BeautifulSoup(response.content, 'html.parser')\n",
    "\n",
    "        for div in soup.find_all('div', class_=div_class):\n",
    "            for link in div.find_all('a'):\n",
    "                url = link.get('href')\n",
    "                name = link.text.strip()\n",
    "                if keyword is None or keyword.lower() in name.lower():\n",
    "                    urls.append({'name': name, 'url': url})\n",
    "\n",
    "        current_page += 1\n",
    "\n",
    "    return urls\n",
    "\n",
    "def store_urls_as_json(urls, output_file):\n",
    "    with open(output_file, 'w') as file:\n",
    "        json.dump(urls, file, indent=4)\n",
    "\n",
    "# Example usage\n",
    "url = 'https://example.com'\n",
    "div_class = 'target-div-class'\n",
    "keyword = 'example'\n",
    "page_number = 3  # Scrape URLs from the first 3 pages\n",
    "output_file = 'urls.json'\n",
    "\n",
    "urls = scrape_urls(url, div_class, keyword, page_number)\n",
    "store_urls_as_json(urls, output_file)\n"
   ]
  }
 ],
 "metadata": {
  "kernelspec": {
   "display_name": "Python 3 (ipykernel)",
   "language": "python",
   "name": "python3"
  },
  "language_info": {
   "codemirror_mode": {
    "name": "ipython",
    "version": 3
   },
   "file_extension": ".py",
   "mimetype": "text/x-python",
   "name": "python",
   "nbconvert_exporter": "python",
   "pygments_lexer": "ipython3",
   "version": "3.9.13"
  }
 },
 "nbformat": 4,
 "nbformat_minor": 5
}
