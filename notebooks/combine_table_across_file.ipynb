{
 "cells": [
  {
   "cell_type": "code",
   "execution_count": 1,
   "id": "b1c7b34e",
   "metadata": {},
   "outputs": [],
   "source": [
    "import os\n",
    "os.chdir(\"C:\\\\Users\\\\Bill Chen\\\\Desktop\\\\UCSD Course\\\\MD Lab\\\\scrapeAll\")\n",
    "import pandas as pd\n",
    "import json\n",
    "import numpy as np"
   ]
  },
  {
   "cell_type": "code",
   "execution_count": 4,
   "id": "b8e779fd",
   "metadata": {},
   "outputs": [
    {
     "data": {
      "text/plain": [
       "['page_0.jpg',\n",
       " 'page_0.xls',\n",
       " 'page_1.jpg',\n",
       " 'page_1.xls',\n",
       " 'page_2.jpg',\n",
       " 'page_2.xls',\n",
       " 'page_3.jpg',\n",
       " 'page_3.xls']"
      ]
     },
     "execution_count": 4,
     "metadata": {},
     "output_type": "execute_result"
    }
   ],
   "source": [
    "table_path = 'data/Test/raw/Guangdong_prov_month/bjx/10月集中竞争结果.pdf_temp/'\n",
    "os.listdir(table_path)"
   ]
  },
  {
   "cell_type": "code",
   "execution_count": 5,
   "id": "8585939c",
   "metadata": {},
   "outputs": [],
   "source": [
    "df0 = pd.read_excel(table_path+'page_0.xls', header=None)\n",
    "df1 = pd.read_excel(table_path+'page_1.xls', header=None)\n",
    "df2 = pd.read_excel(table_path+'page_2.xls', header=None)\n",
    "df3 = pd.read_excel(table_path+'page_3.xls', header=None)"
   ]
  },
  {
   "cell_type": "code",
   "execution_count": 6,
   "id": "8730fa41",
   "metadata": {},
   "outputs": [],
   "source": [
    "def row_vec(arr):\n",
    "    return [not pd.isna(i) for i in arr]"
   ]
  },
  {
   "cell_type": "code",
   "execution_count": 52,
   "id": "7c2c3e9f",
   "metadata": {},
   "outputs": [],
   "source": [
    "def row_vec(arr):\n",
    "    return [not pd.isna(i) for i in arr]\n",
    "\n",
    "def get_table_from_excel(df, result = []):\n",
    "    df_data = df.to_numpy()\n",
    "    \n",
    "    for i in range(len(df_data)):\n",
    "        row_val = row_vec(df_data[i])\n",
    "        if sum(row_val) < 2:\n",
    "            continue\n",
    "\n",
    "        result.append(df_data[i][row_val])\n",
    "    return result\n",
    "\n",
    "def get_tables_from_excels(table_path):\n",
    "    file_ls = os.listdir(table_path)\n",
    "    result = []\n",
    "    temp = []\n",
    "    row_key = None\n",
    "    for file in file_ls:\n",
    "        if file.endswith('xls'):\n",
    "            df = pd.read_excel(table_path+file, header=None)\n",
    "            result = get_table_from_excel(df, result)\n",
    "    return result\n",
    "\n",
    "def isTitle(arr):\n",
    "    arr = arr.astype('str')\n",
    "    notDigit = all(~np.array([x.replace('.', '').isdigit() for x in arr]))\n",
    "    notInt = all(~np.array([isinstance(x, int) for x in arr]))\n",
    "    notFloat = all(~np.array([isinstance(x, float) for x in arr]))\n",
    "    return all([notDigit, notInt, notFloat])\n",
    "\n",
    "def split_tables(array):\n",
    "    title_index = []\n",
    "    tables = []\n",
    "    for i, d in enumerate(array):\n",
    "        if isTitle(d):\n",
    "            title_index.append(i)\n",
    "    for i in range(len(title_index)):\n",
    "        if i == len(title_index) - 1:\n",
    "            if title_index[i] == len(array) - 1:\n",
    "                continue\n",
    "            tables.append(pd.DataFrame(array[title_index[i]:]))\n",
    "            continue\n",
    "        if title_index[i+1] == title_index[i] + 1:\n",
    "            continue\n",
    "        \n",
    "        tables.append(pd.DataFrame(array[title_index[i]:title_index[i+1]]))\n",
    "    return tables\n",
    "\n",
    "def store_clean(tables, outpath):\n",
    "    if not os.path.exists(outpath):\n",
    "        os.makedirs(outpath)\n",
    "    for i, table in enumerate(tables):\n",
    "        table.to_excel(os.path.join(outpath, f'table_{i}.xlsx'))"
   ]
  },
  {
   "cell_type": "code",
   "execution_count": 34,
   "id": "53608585",
   "metadata": {},
   "outputs": [],
   "source": [
    "#split_tables(all_tables)\n",
    "title_index = []\n",
    "tables = []\n",
    "for i, d in enumerate(all_tables):\n",
    "    if isTitle(d):\n",
    "        title_index.append(i)\n",
    "for i in range(len(title_index)-1):\n",
    "    if title_index[i+1] == title_index[i] + 1:\n",
    "        continue\n",
    "    if title_index[i] == len(all_tables):\n",
    "        continue\n",
    "    tables.append(pd.DataFrame(all_tables[title_index[i]:title_index[i+1]]))"
   ]
  },
  {
   "cell_type": "code",
   "execution_count": 53,
   "id": "1cd1601f",
   "metadata": {},
   "outputs": [
    {
     "data": {
      "text/plain": [
       "[array(['-37厘/千瓦时！广东10月集中竞价：价差再收窄成交量基本持平北极星售电网来源：北极星售电网2018/9/2811:53:54我要投稿',\n",
       "        'TBEA特变电工特变电工新疆新能源股份有限公司'], dtype=object),\n",
       " array(['需求方：共有144家参与报价，总申报电量为411789.0万千瓦时，其中144家初步成交，成交的电量为411789.0万千瓦时。需求方平均申报价差-0.5685厘/千瓦时，其中最高成交申报价差为0厘/千瓦时，最低成交申报价差为-35.0厘/千瓦时。',\n",
       "        '新闻排行榜今日本周本月'], dtype=object),\n",
       " array(['2017年2月', -145.5, 12.09, 2.35], dtype=object),\n",
       " array(['2017年3月', -189.45, 21.66, 2.29], dtype=object),\n",
       " array(['2017年4月', -101.5, 20.27, 1.54], dtype=object),\n",
       " array(['2017年5月', -45.0, 24.82, 1.56], dtype=object),\n",
       " array(['2017年6月', -48.15, 24.91, 1.57], dtype=object),\n",
       " array(['2017年7月', -115.0, 28.2, 1.79], dtype=object),\n",
       " array(['2017年8月', -40.5, 32.4, 1.2], dtype=object),\n",
       " array(['2017年9月', -42.6, 35.5, 1.2], dtype=object),\n",
       " array(['2017年10月', -65.0, 39.5, 1.2], dtype=object),\n",
       " array(['2017年11月', -37.0, 41.2, 1.2], dtype=object),\n",
       " array(['2017年12月', -39.45, 38.29, 1.2], dtype=object),\n",
       " array(['2018年1月', -36.5, 35.15, 1.2], dtype=object),\n",
       " array(['2018年2月', -46.5, 32.4, 1.2], dtype=object),\n",
       " array(['2018年3月', -41.5, 42.7, 1.2], dtype=object),\n",
       " array(['2018年4月', -43.95, 38.98, 1.2], dtype=object),\n",
       " array(['2018年5月', -42.0, 36.34, 1.2], dtype=object),\n",
       " array(['2018年6月', -39.3, 42.68, 1.2], dtype=object),\n",
       " array(['2018年7月', -43.35, 42.5, 1.2], dtype=object),\n",
       " array(['2018年8月', -44.1, 43.2, 1.2], dtype=object),\n",
       " array(['2018年9月', -42.0, 44.1, 1.2], dtype=object),\n",
       " array(['2018年10月', -37.0, 44.1, 1.2], dtype=object),\n",
       " array(['浙江售电市场定了！2020年浙江省电', '增量配电新思路', ':浙江售电公司险境求存'], dtype=object),\n",
       " array(['评“邮票法\"下增量配电', '独家调查浙江售电公'], dtype=object),\n",
       " array(['reading…山东售电大调查', '2019年售电年中总结2019年售电人年中总结',\n",
       "        '首吃电改“螃蟹云南模式激起电改浪花首“吃”电改“螃蟹”“云南', '现货市场运行后售电公司如何适应电力现货市场运行后售'],\n",
       "       dtype=object)]"
      ]
     },
     "execution_count": 53,
     "metadata": {},
     "output_type": "execute_result"
    }
   ],
   "source": [
    "all_tables"
   ]
  },
  {
   "cell_type": "code",
   "execution_count": 55,
   "id": "daeb1fa2",
   "metadata": {},
   "outputs": [
    {
     "data": {
      "text/plain": [
       "[                                                    0            1      2  \\\n",
       " 0   需求方：共有144家参与报价，总申报电量为411789.0万千瓦时，其中144家初步成交，成...  新闻排行榜今日本周本月    NaN   \n",
       " 1                                             2017年2月       -145.5  12.09   \n",
       " 2                                             2017年3月      -189.45  21.66   \n",
       " 3                                             2017年4月       -101.5  20.27   \n",
       " 4                                             2017年5月        -45.0  24.82   \n",
       " 5                                             2017年6月       -48.15  24.91   \n",
       " 6                                             2017年7月       -115.0  28.20   \n",
       " 7                                             2017年8月        -40.5  32.40   \n",
       " 8                                             2017年9月        -42.6  35.50   \n",
       " 9                                            2017年10月        -65.0  39.50   \n",
       " 10                                           2017年11月        -37.0  41.20   \n",
       " 11                                           2017年12月       -39.45  38.29   \n",
       " 12                                            2018年1月        -36.5  35.15   \n",
       " 13                                            2018年2月        -46.5  32.40   \n",
       " 14                                            2018年3月        -41.5  42.70   \n",
       " 15                                            2018年4月       -43.95  38.98   \n",
       " 16                                            2018年5月        -42.0  36.34   \n",
       " 17                                            2018年6月        -39.3  42.68   \n",
       " 18                                            2018年7月       -43.35  42.50   \n",
       " 19                                            2018年8月        -44.1  43.20   \n",
       " 20                                            2018年9月        -42.0  44.10   \n",
       " 21                                           2018年10月        -37.0  44.10   \n",
       " \n",
       "        3  \n",
       " 0    NaN  \n",
       " 1   2.35  \n",
       " 2   2.29  \n",
       " 3   1.54  \n",
       " 4   1.56  \n",
       " 5   1.57  \n",
       " 6   1.79  \n",
       " 7   1.20  \n",
       " 8   1.20  \n",
       " 9   1.20  \n",
       " 10  1.20  \n",
       " 11  1.20  \n",
       " 12  1.20  \n",
       " 13  1.20  \n",
       " 14  1.20  \n",
       " 15  1.20  \n",
       " 16  1.20  \n",
       " 17  1.20  \n",
       " 18  1.20  \n",
       " 19  1.20  \n",
       " 20  1.20  \n",
       " 21  1.20  ]"
      ]
     },
     "execution_count": 55,
     "metadata": {},
     "output_type": "execute_result"
    }
   ],
   "source": [
    "split_tables(all_tables)"
   ]
  },
  {
   "cell_type": "code",
   "execution_count": 32,
   "id": "3cd8a6d1",
   "metadata": {},
   "outputs": [
    {
     "data": {
      "text/plain": [
       "[]"
      ]
     },
     "execution_count": 32,
     "metadata": {},
     "output_type": "execute_result"
    }
   ],
   "source": [
    "title_index"
   ]
  },
  {
   "cell_type": "code",
   "execution_count": null,
   "id": "8ef87605",
   "metadata": {},
   "outputs": [],
   "source": [
    "store_clean(tables, r'C:\\Users\\Bill Chen\\Desktop\\UCSD Course\\MD Lab\\scrapeAll\\data\\Test\\clean\\Guangdong_prov_month\\易电在线')"
   ]
  },
  {
   "cell_type": "code",
   "execution_count": null,
   "id": "441302be",
   "metadata": {},
   "outputs": [],
   "source": [
    "all_table = get_tables_from_excels(table_path)"
   ]
  },
  {
   "cell_type": "code",
   "execution_count": null,
   "id": "a489f33a",
   "metadata": {},
   "outputs": [],
   "source": [
    "tables = split_tables(all_table)"
   ]
  },
  {
   "cell_type": "code",
   "execution_count": null,
   "id": "c9f00036",
   "metadata": {},
   "outputs": [],
   "source": [
    "tables[2]"
   ]
  },
  {
   "cell_type": "code",
   "execution_count": null,
   "id": "16e316d3",
   "metadata": {},
   "outputs": [],
   "source": [
    "a = a.astype('str')"
   ]
  },
  {
   "cell_type": "code",
   "execution_count": null,
   "id": "471c60de",
   "metadata": {},
   "outputs": [],
   "source": [
    "all(~np.array([isinstance(x, int) for x in a]))"
   ]
  },
  {
   "cell_type": "code",
   "execution_count": null,
   "id": "4bccdfb8",
   "metadata": {},
   "outputs": [],
   "source": [
    "np.char.isdecimal(np.array(['SD89', '深圳市绿色丝路电力销售有限公司', 6.0], dtype=object).astype('str'))"
   ]
  },
  {
   "cell_type": "code",
   "execution_count": null,
   "id": "55c911b8",
   "metadata": {},
   "outputs": [],
   "source": [
    "a = all_table[6]\n",
    "a = a.astype('str')\n",
    "isTitle(a)"
   ]
  },
  {
   "cell_type": "code",
   "execution_count": null,
   "id": "bafb51b0",
   "metadata": {},
   "outputs": [],
   "source": [
    "pd.DataFrame(all_table[1:11], columns = all_table[0])"
   ]
  },
  {
   "cell_type": "code",
   "execution_count": null,
   "id": "de5c1387",
   "metadata": {},
   "outputs": [],
   "source": [
    "tables = []\n",
    "table = []\n",
    "for i, d in enumerate(all_table):\n",
    "    if isTitle(d):\n",
    "        print(i, d)"
   ]
  },
  {
   "cell_type": "code",
   "execution_count": null,
   "id": "43b80960",
   "metadata": {},
   "outputs": [],
   "source": [
    "all_table"
   ]
  },
  {
   "cell_type": "code",
   "execution_count": null,
   "id": "8dd14afb",
   "metadata": {
    "scrolled": true
   },
   "outputs": [],
   "source": [
    "result, temp = get_tables_from_excels(table_path)"
   ]
  },
  {
   "cell_type": "code",
   "execution_count": null,
   "id": "5fef4287",
   "metadata": {},
   "outputs": [],
   "source": [
    "pd.DataFrame(temp)"
   ]
  },
  {
   "cell_type": "code",
   "execution_count": null,
   "id": "9063c0a4",
   "metadata": {},
   "outputs": [],
   "source": [
    "result[0]"
   ]
  },
  {
   "cell_type": "code",
   "execution_count": null,
   "id": "aa1a8755",
   "metadata": {},
   "outputs": [],
   "source": [
    "result[1]"
   ]
  },
  {
   "cell_type": "code",
   "execution_count": null,
   "id": "9b5b2f0a",
   "metadata": {},
   "outputs": [],
   "source": [
    "result[2]"
   ]
  }
 ],
 "metadata": {
  "kernelspec": {
   "display_name": "Python 3 (ipykernel)",
   "language": "python",
   "name": "python3"
  },
  "language_info": {
   "codemirror_mode": {
    "name": "ipython",
    "version": 3
   },
   "file_extension": ".py",
   "mimetype": "text/x-python",
   "name": "python",
   "nbconvert_exporter": "python",
   "pygments_lexer": "ipython3",
   "version": "3.9.13"
  }
 },
 "nbformat": 4,
 "nbformat_minor": 5
}
